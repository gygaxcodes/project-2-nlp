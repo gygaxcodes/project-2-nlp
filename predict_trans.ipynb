{
 "cells": [
  {
   "cell_type": "markdown",
   "id": "088fd9a4",
   "metadata": {},
   "source": [
    "Load model"
   ]
  },
  {
   "cell_type": "code",
   "execution_count": 1,
   "id": "74ab6be5",
   "metadata": {},
   "outputs": [],
   "source": [
    "\n",
    "import nltk\n",
    "import re\n",
    "import string\n",
    "import pandas as pd\n",
    "import matplotlib.pyplot as plt\n",
    "from nltk.corpus import stopwords\n",
    "from nltk.tokenize import word_tokenize\n",
    "from nltk.stem import PorterStemmer, WordNetLemmatizer\n",
    "from nltk import pos_tag\n",
    "from sklearn.feature_extraction.text import CountVectorizer, TfidfVectorizer\n",
    "\n",
    "import numpy as np\n",
    "\n",
    "from sklearn.model_selection import TimeSeriesSplit\n",
    "from sklearn.pipeline import Pipeline\n",
    "from sklearn.preprocessing import StandardScaler\n",
    "from sklearn.metrics import accuracy_score, f1_score, roc_auc_score\n",
    "\n",
    "from sklearn.linear_model import LogisticRegression\n",
    "from sklearn.ensemble import RandomForestClassifier, GradientBoostingClassifier\n",
    "\n",
    "import joblib"
   ]
  },
  {
   "cell_type": "code",
   "execution_count": 2,
   "id": "f7832e3c",
   "metadata": {},
   "outputs": [
    {
     "name": "stdout",
     "output_type": "stream",
     "text": [
      "(4489, 4)\n",
      "                                               title  \\\n",
      "0  Syria toxic gas inquiry to end after Russia ag...   \n",
      "1  Greeks march to mark 1973 student revolt again...   \n",
      "2  China says will work with North Korea to boost...   \n",
      "3  Argentina intensifies search for missing subma...   \n",
      "4  MUST READ: Iâm Still Trying To Figure Out Ho...   \n",
      "\n",
      "                                                text    subject        date  \n",
      "0  UNITED NATIONS (Reuters) - An international in...  worldnews  2017-11-17  \n",
      "1  ATHENS (Reuters) - Greek police clashed with h...  worldnews  2017-11-17  \n",
      "2  BEIJING/SEOUL (Reuters) - Traditional friendsh...  worldnews  2017-11-17  \n",
      "3  BUENOS AIRES (Reuters) - An Argentine submarin...  worldnews  2017-11-17  \n",
      "4  Once you ve read this list, you re going to wa...  left-news  2017-11-17  \n"
     ]
    }
   ],
   "source": [
    "## Read Data\n",
    "\n",
    "import pandas as pd\n",
    "\n",
    "data = pd.read_csv(\"test_data_no_labels.csv\",encoding='latin-1')\n",
    "\n",
    "print(data.shape)\n",
    "\n",
    "print(data.head())"
   ]
  },
  {
   "cell_type": "markdown",
   "id": "4d031403",
   "metadata": {},
   "source": [
    "# Preprocessing"
   ]
  },
  {
   "cell_type": "code",
   "execution_count": 4,
   "id": "8468d591",
   "metadata": {},
   "outputs": [
    {
     "data": {
      "text/html": [
       "<div>\n",
       "<style scoped>\n",
       "    .dataframe tbody tr th:only-of-type {\n",
       "        vertical-align: middle;\n",
       "    }\n",
       "\n",
       "    .dataframe tbody tr th {\n",
       "        vertical-align: top;\n",
       "    }\n",
       "\n",
       "    .dataframe thead th {\n",
       "        text-align: right;\n",
       "    }\n",
       "</style>\n",
       "<table border=\"1\" class=\"dataframe\">\n",
       "  <thead>\n",
       "    <tr style=\"text-align: right;\">\n",
       "      <th></th>\n",
       "      <th>title</th>\n",
       "    </tr>\n",
       "  </thead>\n",
       "  <tbody>\n",
       "    <tr>\n",
       "      <th>0</th>\n",
       "      <td>Syria toxic gas inquiry to end after Russia ag...</td>\n",
       "    </tr>\n",
       "    <tr>\n",
       "      <th>1</th>\n",
       "      <td>Greeks march to mark 1973 student revolt again...</td>\n",
       "    </tr>\n",
       "    <tr>\n",
       "      <th>2</th>\n",
       "      <td>China says will work with North Korea to boost...</td>\n",
       "    </tr>\n",
       "    <tr>\n",
       "      <th>3</th>\n",
       "      <td>Argentina intensifies search for missing subma...</td>\n",
       "    </tr>\n",
       "    <tr>\n",
       "      <th>4</th>\n",
       "      <td>MUST READ: Iâm Still Trying To Figure Out Ho...</td>\n",
       "    </tr>\n",
       "  </tbody>\n",
       "</table>\n",
       "</div>"
      ],
      "text/plain": [
       "                                               title\n",
       "0  Syria toxic gas inquiry to end after Russia ag...\n",
       "1  Greeks march to mark 1973 student revolt again...\n",
       "2  China says will work with North Korea to boost...\n",
       "3  Argentina intensifies search for missing subma...\n",
       "4  MUST READ: Iâm Still Trying To Figure Out Ho..."
      ]
     },
     "metadata": {},
     "output_type": "display_data"
    }
   ],
   "source": [
    "# Drop unnecessary columns\n",
    "data = data[['title']]\n",
    "\n",
    "# Display the first few rows to verify the change\n",
    "display(data.head())\n",
    "\n"
   ]
  },
  {
   "cell_type": "code",
   "execution_count": 5,
   "id": "03ae8e14",
   "metadata": {},
   "outputs": [
    {
     "data": {
      "application/vnd.jupyter.widget-view+json": {
       "model_id": "18b9bb7afec94a5bb254c7809ae18e1f",
       "version_major": 2,
       "version_minor": 0
      },
      "text/plain": [
       "tokenizer_config.json:   0%|          | 0.00/48.0 [00:00<?, ?B/s]"
      ]
     },
     "metadata": {},
     "output_type": "display_data"
    },
    {
     "data": {
      "application/vnd.jupyter.widget-view+json": {
       "model_id": "82139cf546cf4c48a562d34acd05373d",
       "version_major": 2,
       "version_minor": 0
      },
      "text/plain": [
       "config.json:   0%|          | 0.00/483 [00:00<?, ?B/s]"
      ]
     },
     "metadata": {},
     "output_type": "display_data"
    },
    {
     "data": {
      "application/vnd.jupyter.widget-view+json": {
       "model_id": "cc246a37ab544d969511066e589ae23a",
       "version_major": 2,
       "version_minor": 0
      },
      "text/plain": [
       "vocab.txt:   0%|          | 0.00/232k [00:00<?, ?B/s]"
      ]
     },
     "metadata": {},
     "output_type": "display_data"
    },
    {
     "data": {
      "application/vnd.jupyter.widget-view+json": {
       "model_id": "eb02743346eb43f5acf1d9599ab69eb5",
       "version_major": 2,
       "version_minor": 0
      },
      "text/plain": [
       "tokenizer.json:   0%|          | 0.00/466k [00:00<?, ?B/s]"
      ]
     },
     "metadata": {},
     "output_type": "display_data"
    },
    {
     "ename": "",
     "evalue": "",
     "output_type": "error",
     "traceback": [
      "\u001b[1;31mThe Kernel crashed while executing code in the current cell or a previous cell. \n",
      "\u001b[1;31mPlease review the code in the cell(s) to identify a possible cause of the failure. \n",
      "\u001b[1;31mClick <a href='https://aka.ms/vscodeJupyterKernelCrash'>here</a> for more info. \n",
      "\u001b[1;31mView Jupyter <a href='command:jupyter.viewOutput'>log</a> for further details."
     ]
    }
   ],
   "source": [
    "from transformers import AutoTokenizer, AutoModel\n",
    "\n",
    "# Choose model for embedding\n",
    "embedding_model_name = \"distilbert-base-uncased\"\n",
    "\n",
    "# Load tokenizer and model for embeddings\n",
    "tokenizer = AutoTokenizer.from_pretrained(embedding_model_name)\n",
    "model = AutoModel.from_pretrained(embedding_model_name)\n",
    "\n",
    "# Function to get embeddings\n",
    "def get_embeddings(text):\n",
    "    inputs = tokenizer(text, return_tensors=\"pt\", padding=True, truncation=True)\n",
    "    with torch.no_grad():\n",
    "        outputs = model(**inputs)\n",
    "    # Get the embeddings from the last hidden state (usually the [CLS] token embedding)\n",
    "    # or average the token embeddings\n",
    "    embeddings = outputs.last_hidden_state[:, 0, :].squeeze() # Using [CLS] token embedding\n",
    "    # embeddings = torch.mean(outputs.last_hidden_state, dim=1).squeeze() # Using mean pooling\n",
    "    return embeddings\n",
    "\n",
    "# Example usage (optional)\n",
    "sample_text = \"This is a sample sentence for embedding.\"\n",
    "sample_embedding = get_embeddings(sample_text)\n",
    "\n",
    "print(sample_embedding.shape)"
   ]
  },
  {
   "cell_type": "markdown",
   "id": "c9913c54",
   "metadata": {},
   "source": [
    "# Predict"
   ]
  },
  {
   "cell_type": "code",
   "execution_count": null,
   "id": "b0d5ef1e",
   "metadata": {},
   "outputs": [],
   "source": [
    "\n",
    "# load RF model\n",
    "clf_lr_trans = joblib.load(\"model_lr_transformer.pkl\")\n",
    "\n",
    "# make predictions\n",
    "y_pred_lr_trans = clf_lr_trans.predict(X_tr_all)\n",
    "\n",
    "print(\"Predictions:\", y_pred_lr_trans)\n"
   ]
  },
  {
   "cell_type": "code",
   "execution_count": null,
   "id": "17305b61",
   "metadata": {},
   "outputs": [],
   "source": [
    "import pandas as pd\n",
    "\n",
    "# Load your old data\n",
    "data = pd.read_csv(\"test_data_no_labels.csv\", encoding='latin-1')\n",
    "\n",
    "# Add predictions as a new column\n",
    "data[\"predictions\"] = y_pred_lr_trans  # y_pred_lr_trans must match number of rows\n",
    "\n",
    "# Save to new file\n",
    "data.to_csv(\"predictionsLR_Transformers.csv\", index=False)\n"
   ]
  }
 ],
 "metadata": {
  "kernelspec": {
   "display_name": "base",
   "language": "python",
   "name": "python3"
  },
  "language_info": {
   "codemirror_mode": {
    "name": "ipython",
    "version": 3
   },
   "file_extension": ".py",
   "mimetype": "text/x-python",
   "name": "python",
   "nbconvert_exporter": "python",
   "pygments_lexer": "ipython3",
   "version": "3.13.5"
  }
 },
 "nbformat": 4,
 "nbformat_minor": 5
}
