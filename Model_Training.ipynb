{
 "cells": [
  {
   "cell_type": "markdown",
   "id": "f47c7524",
   "metadata": {},
   "source": [
    "![logo_ironhack_blue 7](https://user-images.githubusercontent.com/23629340/40541063-a07a0a8a-601a-11e8-91b5-2f13e4e6b441.png)\n",
    "\n",
    "# PROJECT | Natural Language Processing Challenge\n",
    "\n",
    "## Introduction\n",
    "\n",
    "Learning how to process text is a skill required for Data Scientists/AI Engineers. \n",
    "\n",
    "In this project, you will put these skills into practice to identify whether a news headline is real or fake news.\n",
    "\n",
    "## Project Overview\n",
    "\n",
    "In the file `dataset/data.csv`, you will find a dataset containing news articles with the following columns:\n",
    "\n",
    "- **`label`**: 0 if the news is fake, 1 if the news is real.\n",
    "- **`title`**: The headline of the news article.\n",
    "- **`text`**: The full content of the article.\n",
    "- **`subject`**: The category or topic of the news.\n",
    "- **`date`**: The publication date of the article.\n",
    "\n",
    "Your goal is to build a classifier that is able to distinguish between the two.\n",
    "\n",
    "Once you have a classifier built, then use it to predict the labels for `dataset/validation_data.csv`. Generate a new file\n",
    "where the label `2` has been replaced by `0` (fake) or `1` (real) according to your model. Please respect the original file format, \n",
    "do not include extra columns, and respect the column separator. \n",
    "\n",
    "Please ensure to split the `data.csv` into **training** and **test** datasets before using it for model training or evaluation.\n",
    "\n",
    "## Guidance\n",
    "\n",
    "Like in a real life scenario, you are able to make your own choices and text treatment.\n",
    "Use the techniques you have learned and the common packages to process this data and classify the text.\n",
    "\n",
    "## Deliverables\n",
    "\n",
    "1. **Python Code:** Provide well-documented Python code that conducts the analysis.\n",
    "2. **Predictions:** A csv file in the same format as `validation_data.csv` but with the predicted labels (0 or 1)\n",
    "3. **Accuracy estimation:** Provide the teacher with your estimation of how your model will perform.\n",
    "4. **Presentation:** You will present your model in a 10-minute presentation. Your teacher will provide further instructions."
   ]
  },
  {
   "cell_type": "code",
   "execution_count": 74,
   "id": "33b97894",
   "metadata": {},
   "outputs": [],
   "source": [
    "# Can use transformer Model but also need another model\n",
    "# Can check with other models like Logistic Regression, Random Forest, etc.\n",
    "# Can find other training data"
   ]
  },
  {
   "cell_type": "markdown",
   "id": "77e837c9",
   "metadata": {},
   "source": [
    "# Setup the Environment"
   ]
  },
  {
   "cell_type": "code",
   "execution_count": 75,
   "id": "cf024497",
   "metadata": {},
   "outputs": [],
   "source": [
    "\n",
    "import nltk\n",
    "import re\n",
    "import string\n",
    "import pandas as pd\n",
    "import matplotlib.pyplot as plt\n",
    "from nltk.corpus import stopwords\n",
    "from nltk.tokenize import word_tokenize\n",
    "from nltk.stem import PorterStemmer, WordNetLemmatizer\n",
    "from nltk import pos_tag\n",
    "from sklearn.feature_extraction.text import CountVectorizer, TfidfVectorizer\n",
    "\n",
    "import numpy as np\n",
    "\n",
    "from sklearn.model_selection import TimeSeriesSplit\n",
    "from sklearn.pipeline import Pipeline\n",
    "from sklearn.preprocessing import StandardScaler\n",
    "from sklearn.metrics import accuracy_score, f1_score, roc_auc_score\n",
    "\n",
    "from sklearn.linear_model import LogisticRegression\n",
    "from sklearn.ensemble import RandomForestClassifier, GradientBoostingClassifier"
   ]
  },
  {
   "cell_type": "code",
   "execution_count": 76,
   "id": "831a3964",
   "metadata": {},
   "outputs": [
    {
     "name": "stdout",
     "output_type": "stream",
     "text": [
      "(40399, 5)\n",
      "   label                                              title  \\\n",
      "0      0  HILLARY RODHAM NIXON: A CANDIDATE WITH MORE BA...   \n",
      "1      0  WATCH DIRTY HARRY REID ON HIS LIE ABOUT ROMNEY...   \n",
      "2      0  HILLARY RODHAM NIXON: A CANDIDATE WITH MORE BA...   \n",
      "3      0  FLASHBACK: KING OBAMA COMMUTES SENTENCES OF 22...   \n",
      "4      0  BENGHAZI PANEL CALLS HILLARY TO TESTIFY UNDER ...   \n",
      "\n",
      "                                                text    subject        date  \n",
      "0  The irony here isn t lost on us. Hillary is be...   politics  2015-03-31  \n",
      "1  In case you missed it Sen. Harry Reid (R-NV), ...  left-news  2015-03-31  \n",
      "2  The irony here isn t lost on us. Hillary is be...  left-news  2015-03-31  \n",
      "3  Just making room for Hillary President Obama t...   politics  2015-03-31  \n",
      "4  Does anyone really think Hillary Clinton will ...   politics  2015-03-31  \n"
     ]
    }
   ],
   "source": [
    "## Read Data\n",
    "data = pd.read_csv(\"train_data.csv\",encoding='latin-1')\n",
    "\n",
    "print(data.shape)\n",
    "\n",
    "print(data.head())"
   ]
  },
  {
   "cell_type": "code",
   "execution_count": 77,
   "id": "d2e30001",
   "metadata": {},
   "outputs": [
    {
     "name": "stdout",
     "output_type": "stream",
     "text": [
      "(40399, 5)\n"
     ]
    }
   ],
   "source": [
    "# Reduce the training set to speed up development. \n",
    "\n",
    "# data = data.head(1000)\n",
    "\n",
    "print(data.shape)"
   ]
  },
  {
   "cell_type": "markdown",
   "id": "5ed5663e",
   "metadata": {},
   "source": [
    "# Text processing"
   ]
  },
  {
   "cell_type": "code",
   "execution_count": 78,
   "id": "3573365c",
   "metadata": {},
   "outputs": [
    {
     "data": {
      "text/plain": [
       "<bound method NDFrame.head of        label                                              title  \\\n",
       "0          0  HILLARY RODHAM NIXON: A CANDIDATE WITH MORE BA...   \n",
       "1          0  WATCH DIRTY HARRY REID ON HIS LIE ABOUT ROMNEY...   \n",
       "2          0  HILLARY RODHAM NIXON: A CANDIDATE WITH MORE BA...   \n",
       "3          0  FLASHBACK: KING OBAMA COMMUTES SENTENCES OF 22...   \n",
       "4          0  BENGHAZI PANEL CALLS HILLARY TO TESTIFY UNDER ...   \n",
       "...      ...                                                ...   \n",
       "40394      1  Exclusive: North Korea rules out negotiations ...   \n",
       "40395      1  Freeport evacuating Indonesian mine worker fam...   \n",
       "40396      1  Freeport evacuating Indonesian mine worker fam...   \n",
       "40397      1  Venezuela opposition leader Ledezma flees to S...   \n",
       "40398      1  As Canada prepares for legal pot, ex-cops get ...   \n",
       "\n",
       "                                                    text    subject  \\\n",
       "0      The irony here isn t lost on us. Hillary is be...   politics   \n",
       "1      In case you missed it Sen. Harry Reid (R-NV), ...  left-news   \n",
       "2      The irony here isn t lost on us. Hillary is be...  left-news   \n",
       "3      Just making room for Hillary President Obama t...   politics   \n",
       "4      Does anyone really think Hillary Clinton will ...   politics   \n",
       "...                                                  ...        ...   \n",
       "40394  GENEVA (Reuters) - North Korea on Friday ruled...  worldnews   \n",
       "40395  TIMIKA, Indonesia (Reuters) - U.S. miner Freep...  worldnews   \n",
       "40396  TIMIKA, Indonesia (Reuters) - U.S. miner Freep...  worldnews   \n",
       "40397  CARACAS/BOGOTA (Reuters) - Veteran Venezuelan ...  worldnews   \n",
       "40398  TORONTO (Reuters) - A former Canadian police c...  worldnews   \n",
       "\n",
       "             date  \n",
       "0      2015-03-31  \n",
       "1      2015-03-31  \n",
       "2      2015-03-31  \n",
       "3      2015-03-31  \n",
       "4      2015-03-31  \n",
       "...           ...  \n",
       "40394  2017-11-17  \n",
       "40395  2017-11-17  \n",
       "40396  2017-11-17  \n",
       "40397  2017-11-17  \n",
       "40398  2017-11-17  \n",
       "\n",
       "[40399 rows x 5 columns]>"
      ]
     },
     "execution_count": 78,
     "metadata": {},
     "output_type": "execute_result"
    }
   ],
   "source": [
    "data.head"
   ]
  },
  {
   "cell_type": "code",
   "execution_count": 79,
   "id": "3f7ef6af",
   "metadata": {},
   "outputs": [
    {
     "name": "stdout",
     "output_type": "stream",
     "text": [
      "   label                                              title  \\\n",
      "0      0  [HILLARY, RODHAM, NIXON, :, A, CANDIDATE, WITH...   \n",
      "1      0  [WATCH, DIRTY, HARRY, REID, ON, HIS, LIE, ABOU...   \n",
      "2      0  [HILLARY, RODHAM, NIXON, :, A, CANDIDATE, WITH...   \n",
      "3      0  [FLASHBACK, :, KING, OBAMA, COMMUTES, SENTENCE...   \n",
      "4      0  [BENGHAZI, PANEL, CALLS, HILLARY, TO, TESTIFY,...   \n",
      "\n",
      "                                                text    subject        date  \n",
      "0  [The, irony, here, isn, t, lost, on, us, ., Hi...   politics  2015-03-31  \n",
      "1  [In, case, you, missed, it, Sen., Harry, Reid,...  left-news  2015-03-31  \n",
      "2  [The, irony, here, isn, t, lost, on, us, ., Hi...  left-news  2015-03-31  \n",
      "3  [Just, making, room, for, Hillary, President, ...   politics  2015-03-31  \n",
      "4  [Does, anyone, really, think, Hillary, Clinton...   politics  2015-03-31  \n"
     ]
    }
   ],
   "source": [
    "from nltk.tokenize import word_tokenize\n",
    "\n",
    "# Tokenize 'title' and 'text' columns and store as new columns\n",
    "data['title'] = data['title'].apply(lambda x: word_tokenize(str(x)))\n",
    "data['text'] = data['text'].apply(lambda x: word_tokenize(str(x)))\n",
    "\n",
    "# Check the result\n",
    "print(data.head())"
   ]
  },
  {
   "cell_type": "code",
   "execution_count": 80,
   "id": "3d7a2605",
   "metadata": {},
   "outputs": [],
   "source": [
    "title = data['title']\n",
    "text = data['text']"
   ]
  },
  {
   "cell_type": "code",
   "execution_count": 81,
   "id": "3e9c32db",
   "metadata": {},
   "outputs": [
    {
     "data": {
      "text/html": [
       "<div>\n",
       "<style scoped>\n",
       "    .dataframe tbody tr th:only-of-type {\n",
       "        vertical-align: middle;\n",
       "    }\n",
       "\n",
       "    .dataframe tbody tr th {\n",
       "        vertical-align: top;\n",
       "    }\n",
       "\n",
       "    .dataframe thead th {\n",
       "        text-align: right;\n",
       "    }\n",
       "</style>\n",
       "<table border=\"1\" class=\"dataframe\">\n",
       "  <thead>\n",
       "    <tr style=\"text-align: right;\">\n",
       "      <th></th>\n",
       "      <th>label</th>\n",
       "      <th>title</th>\n",
       "      <th>text</th>\n",
       "      <th>subject</th>\n",
       "      <th>date</th>\n",
       "    </tr>\n",
       "  </thead>\n",
       "  <tbody>\n",
       "    <tr>\n",
       "      <th>0</th>\n",
       "      <td>0</td>\n",
       "      <td>hillary rodham nixon candidate with more bagga...</td>\n",
       "      <td>the irony here isn lost on us hillary is being...</td>\n",
       "      <td>politics</td>\n",
       "      <td>2015-03-31</td>\n",
       "    </tr>\n",
       "    <tr>\n",
       "      <th>1</th>\n",
       "      <td>0</td>\n",
       "      <td>watch dirty harry reid on his lie about romney...</td>\n",
       "      <td>in case you missed it sen harry reid rnv who a...</td>\n",
       "      <td>left-news</td>\n",
       "      <td>2015-03-31</td>\n",
       "    </tr>\n",
       "    <tr>\n",
       "      <th>2</th>\n",
       "      <td>0</td>\n",
       "      <td>hillary rodham nixon candidate with more bagga...</td>\n",
       "      <td>the irony here isn lost on us hillary is being...</td>\n",
       "      <td>left-news</td>\n",
       "      <td>2015-03-31</td>\n",
       "    </tr>\n",
       "    <tr>\n",
       "      <th>3</th>\n",
       "      <td>0</td>\n",
       "      <td>flashback king obama commutes sentences of 22 ...</td>\n",
       "      <td>just making room for hillary president obama t...</td>\n",
       "      <td>politics</td>\n",
       "      <td>2015-03-31</td>\n",
       "    </tr>\n",
       "    <tr>\n",
       "      <th>4</th>\n",
       "      <td>0</td>\n",
       "      <td>benghazi panel calls hillary to testify under ...</td>\n",
       "      <td>does anyone really think hillary clinton will ...</td>\n",
       "      <td>politics</td>\n",
       "      <td>2015-03-31</td>\n",
       "    </tr>\n",
       "  </tbody>\n",
       "</table>\n",
       "</div>"
      ],
      "text/plain": [
       "   label                                              title  \\\n",
       "0      0  hillary rodham nixon candidate with more bagga...   \n",
       "1      0  watch dirty harry reid on his lie about romney...   \n",
       "2      0  hillary rodham nixon candidate with more bagga...   \n",
       "3      0  flashback king obama commutes sentences of 22 ...   \n",
       "4      0  benghazi panel calls hillary to testify under ...   \n",
       "\n",
       "                                                text    subject        date  \n",
       "0  the irony here isn lost on us hillary is being...   politics  2015-03-31  \n",
       "1  in case you missed it sen harry reid rnv who a...  left-news  2015-03-31  \n",
       "2  the irony here isn lost on us hillary is being...  left-news  2015-03-31  \n",
       "3  just making room for hillary president obama t...   politics  2015-03-31  \n",
       "4  does anyone really think hillary clinton will ...   politics  2015-03-31  "
      ]
     },
     "execution_count": 81,
     "metadata": {},
     "output_type": "execute_result"
    }
   ],
   "source": [
    "def clean_text(text: str) -> str:\n",
    "    # Ensure we are working with a string\n",
    "    text = str(text)\n",
    "\n",
    "    # Remove all special characters (keep only letters, numbers, and spaces)\n",
    "    text = re.sub(r\"[^A-Za-z0-9\\s]\", \"\", text)\n",
    "\n",
    "    # Remove all single characters (like \"a\", \"b\", \"c\" standing alone)\n",
    "    text = re.sub(r\"\\b[A-Za-z]\\b\", \"\", text)\n",
    "\n",
    "    # Remove single characters from the start of the text\n",
    "    text = re.sub(r\"^[A-Za-z]\\s+\", \"\", text)\n",
    "\n",
    "    # Replace multiple spaces with a single space\n",
    "    text = re.sub(r\"\\s+\", \" \", text)\n",
    "\n",
    "    # Convert everything to lowercase\n",
    "    text = text.lower()\n",
    "\n",
    "    return text\n",
    "\n",
    "\n",
    "# clean text\n",
    "data['text'] = data['text'].apply(clean_text)\n",
    "\n",
    "# clean title\n",
    "data['title'] = data['title'].apply(clean_text)\n",
    "\n",
    "data.head() \n"
   ]
  },
  {
   "cell_type": "code",
   "execution_count": 82,
   "id": "65120d33",
   "metadata": {},
   "outputs": [],
   "source": [
    "stop_words = set(stopwords.words('english'))\n",
    "\n",
    "def remove_stopwords(text):\n",
    "    tokens = word_tokenize(str(text))\n",
    "    filtered = [word for word in tokens if word.lower() not in stop_words and word.isalpha()]\n",
    "    return ' '.join(filtered)\n",
    "\n",
    "# Make a copy to preserve the original data\n",
    "data_nostop = data.copy()\n",
    "\n",
    "# Replace the columns with stopword-removed text\n",
    "data_nostop['title'] = data_nostop['title'].apply(remove_stopwords)\n",
    "data_nostop['text'] = data_nostop['text'].apply(remove_stopwords)\n"
   ]
  },
  {
   "cell_type": "code",
   "execution_count": 83,
   "id": "309a47c0",
   "metadata": {},
   "outputs": [
    {
     "data": {
      "text/html": [
       "<div>\n",
       "<style scoped>\n",
       "    .dataframe tbody tr th:only-of-type {\n",
       "        vertical-align: middle;\n",
       "    }\n",
       "\n",
       "    .dataframe tbody tr th {\n",
       "        vertical-align: top;\n",
       "    }\n",
       "\n",
       "    .dataframe thead th {\n",
       "        text-align: right;\n",
       "    }\n",
       "</style>\n",
       "<table border=\"1\" class=\"dataframe\">\n",
       "  <thead>\n",
       "    <tr style=\"text-align: right;\">\n",
       "      <th></th>\n",
       "      <th>label</th>\n",
       "      <th>title</th>\n",
       "      <th>text</th>\n",
       "      <th>subject</th>\n",
       "      <th>date</th>\n",
       "    </tr>\n",
       "  </thead>\n",
       "  <tbody>\n",
       "    <tr>\n",
       "      <th>0</th>\n",
       "      <td>0</td>\n",
       "      <td>hillary rodham nixon candidate baggage samsoni...</td>\n",
       "      <td>irony lost us hillary compared president wante...</td>\n",
       "      <td>politics</td>\n",
       "      <td>2015-03-31</td>\n",
       "    </tr>\n",
       "    <tr>\n",
       "      <th>1</th>\n",
       "      <td>0</td>\n",
       "      <td>watch dirty harry reid lie taxes win</td>\n",
       "      <td>case missed sen harry reid rnv announced last ...</td>\n",
       "      <td>left-news</td>\n",
       "      <td>2015-03-31</td>\n",
       "    </tr>\n",
       "    <tr>\n",
       "      <th>2</th>\n",
       "      <td>0</td>\n",
       "      <td>hillary rodham nixon candidate baggage samsoni...</td>\n",
       "      <td>irony lost us hillary compared president wante...</td>\n",
       "      <td>left-news</td>\n",
       "      <td>2015-03-31</td>\n",
       "    </tr>\n",
       "    <tr>\n",
       "      <th>3</th>\n",
       "      <td>0</td>\n",
       "      <td>flashback king obama commutes sentences drug d...</td>\n",
       "      <td>making room hillary president obama today anno...</td>\n",
       "      <td>politics</td>\n",
       "      <td>2015-03-31</td>\n",
       "    </tr>\n",
       "    <tr>\n",
       "      <th>4</th>\n",
       "      <td>0</td>\n",
       "      <td>benghazi panel calls hillary testify oath whit...</td>\n",
       "      <td>anyone really think hillary clinton come clean...</td>\n",
       "      <td>politics</td>\n",
       "      <td>2015-03-31</td>\n",
       "    </tr>\n",
       "  </tbody>\n",
       "</table>\n",
       "</div>"
      ],
      "text/plain": [
       "   label                                              title  \\\n",
       "0      0  hillary rodham nixon candidate baggage samsoni...   \n",
       "1      0               watch dirty harry reid lie taxes win   \n",
       "2      0  hillary rodham nixon candidate baggage samsoni...   \n",
       "3      0  flashback king obama commutes sentences drug d...   \n",
       "4      0  benghazi panel calls hillary testify oath whit...   \n",
       "\n",
       "                                                text    subject        date  \n",
       "0  irony lost us hillary compared president wante...   politics  2015-03-31  \n",
       "1  case missed sen harry reid rnv announced last ...  left-news  2015-03-31  \n",
       "2  irony lost us hillary compared president wante...  left-news  2015-03-31  \n",
       "3  making room hillary president obama today anno...   politics  2015-03-31  \n",
       "4  anyone really think hillary clinton come clean...   politics  2015-03-31  "
      ]
     },
     "execution_count": 83,
     "metadata": {},
     "output_type": "execute_result"
    }
   ],
   "source": [
    "data_nostop.head()\n"
   ]
  },
  {
   "cell_type": "code",
   "execution_count": 84,
   "id": "6da4b03a",
   "metadata": {},
   "outputs": [
    {
     "data": {
      "text/html": [
       "<div>\n",
       "<style scoped>\n",
       "    .dataframe tbody tr th:only-of-type {\n",
       "        vertical-align: middle;\n",
       "    }\n",
       "\n",
       "    .dataframe tbody tr th {\n",
       "        vertical-align: top;\n",
       "    }\n",
       "\n",
       "    .dataframe thead th {\n",
       "        text-align: right;\n",
       "    }\n",
       "</style>\n",
       "<table border=\"1\" class=\"dataframe\">\n",
       "  <thead>\n",
       "    <tr style=\"text-align: right;\">\n",
       "      <th></th>\n",
       "      <th>label</th>\n",
       "      <th>title</th>\n",
       "      <th>text</th>\n",
       "      <th>subject</th>\n",
       "      <th>date</th>\n",
       "    </tr>\n",
       "  </thead>\n",
       "  <tbody>\n",
       "    <tr>\n",
       "      <th>0</th>\n",
       "      <td>0</td>\n",
       "      <td>hillary rodham nixon candidate with more bagga...</td>\n",
       "      <td>the irony here isn lost on us hillary is being...</td>\n",
       "      <td>politics</td>\n",
       "      <td>2015-03-31</td>\n",
       "    </tr>\n",
       "    <tr>\n",
       "      <th>1</th>\n",
       "      <td>0</td>\n",
       "      <td>watch dirty harry reid on his lie about romney...</td>\n",
       "      <td>in case you missed it sen harry reid rnv who a...</td>\n",
       "      <td>left-news</td>\n",
       "      <td>2015-03-31</td>\n",
       "    </tr>\n",
       "    <tr>\n",
       "      <th>2</th>\n",
       "      <td>0</td>\n",
       "      <td>hillary rodham nixon candidate with more bagga...</td>\n",
       "      <td>the irony here isn lost on us hillary is being...</td>\n",
       "      <td>left-news</td>\n",
       "      <td>2015-03-31</td>\n",
       "    </tr>\n",
       "    <tr>\n",
       "      <th>3</th>\n",
       "      <td>0</td>\n",
       "      <td>flashback king obama commutes sentences of 22 ...</td>\n",
       "      <td>just making room for hillary president obama t...</td>\n",
       "      <td>politics</td>\n",
       "      <td>2015-03-31</td>\n",
       "    </tr>\n",
       "    <tr>\n",
       "      <th>4</th>\n",
       "      <td>0</td>\n",
       "      <td>benghazi panel calls hillary to testify under ...</td>\n",
       "      <td>does anyone really think hillary clinton will ...</td>\n",
       "      <td>politics</td>\n",
       "      <td>2015-03-31</td>\n",
       "    </tr>\n",
       "  </tbody>\n",
       "</table>\n",
       "</div>"
      ],
      "text/plain": [
       "   label                                              title  \\\n",
       "0      0  hillary rodham nixon candidate with more bagga...   \n",
       "1      0  watch dirty harry reid on his lie about romney...   \n",
       "2      0  hillary rodham nixon candidate with more bagga...   \n",
       "3      0  flashback king obama commutes sentences of 22 ...   \n",
       "4      0  benghazi panel calls hillary to testify under ...   \n",
       "\n",
       "                                                text    subject        date  \n",
       "0  the irony here isn lost on us hillary is being...   politics  2015-03-31  \n",
       "1  in case you missed it sen harry reid rnv who a...  left-news  2015-03-31  \n",
       "2  the irony here isn lost on us hillary is being...  left-news  2015-03-31  \n",
       "3  just making room for hillary president obama t...   politics  2015-03-31  \n",
       "4  does anyone really think hillary clinton will ...   politics  2015-03-31  "
      ]
     },
     "execution_count": 84,
     "metadata": {},
     "output_type": "execute_result"
    }
   ],
   "source": [
    "# compare\n",
    "\n",
    "data.head()"
   ]
  },
  {
   "cell_type": "markdown",
   "id": "842257c7",
   "metadata": {},
   "source": [
    "## Stemming and Lemmatization"
   ]
  },
  {
   "cell_type": "code",
   "execution_count": 85,
   "id": "582f5a46",
   "metadata": {},
   "outputs": [],
   "source": [
    "stemmer = PorterStemmer()\n",
    "lemmatizer = WordNetLemmatizer()"
   ]
  },
  {
   "cell_type": "code",
   "execution_count": 86,
   "id": "74d2b16b",
   "metadata": {},
   "outputs": [
    {
     "data": {
      "text/html": [
       "<div>\n",
       "<style scoped>\n",
       "    .dataframe tbody tr th:only-of-type {\n",
       "        vertical-align: middle;\n",
       "    }\n",
       "\n",
       "    .dataframe tbody tr th {\n",
       "        vertical-align: top;\n",
       "    }\n",
       "\n",
       "    .dataframe thead th {\n",
       "        text-align: right;\n",
       "    }\n",
       "</style>\n",
       "<table border=\"1\" class=\"dataframe\">\n",
       "  <thead>\n",
       "    <tr style=\"text-align: right;\">\n",
       "      <th></th>\n",
       "      <th>label</th>\n",
       "      <th>title</th>\n",
       "      <th>text</th>\n",
       "      <th>subject</th>\n",
       "      <th>date</th>\n",
       "    </tr>\n",
       "  </thead>\n",
       "  <tbody>\n",
       "    <tr>\n",
       "      <th>0</th>\n",
       "      <td>0</td>\n",
       "      <td>hillary rodham nixon candidate baggage samsoni...</td>\n",
       "      <td>irony lost us hillary compared president wante...</td>\n",
       "      <td>politics</td>\n",
       "      <td>2015-03-31</td>\n",
       "    </tr>\n",
       "    <tr>\n",
       "      <th>1</th>\n",
       "      <td>0</td>\n",
       "      <td>watch dirty harry reid lie taxes win</td>\n",
       "      <td>case missed sen harry reid rnv announced last ...</td>\n",
       "      <td>left-news</td>\n",
       "      <td>2015-03-31</td>\n",
       "    </tr>\n",
       "    <tr>\n",
       "      <th>2</th>\n",
       "      <td>0</td>\n",
       "      <td>hillary rodham nixon candidate baggage samsoni...</td>\n",
       "      <td>irony lost us hillary compared president wante...</td>\n",
       "      <td>left-news</td>\n",
       "      <td>2015-03-31</td>\n",
       "    </tr>\n",
       "    <tr>\n",
       "      <th>3</th>\n",
       "      <td>0</td>\n",
       "      <td>flashback king obama commutes sentences drug d...</td>\n",
       "      <td>making room hillary president obama today anno...</td>\n",
       "      <td>politics</td>\n",
       "      <td>2015-03-31</td>\n",
       "    </tr>\n",
       "    <tr>\n",
       "      <th>4</th>\n",
       "      <td>0</td>\n",
       "      <td>benghazi panel calls hillary testify oath whit...</td>\n",
       "      <td>anyone really think hillary clinton come clean...</td>\n",
       "      <td>politics</td>\n",
       "      <td>2015-03-31</td>\n",
       "    </tr>\n",
       "  </tbody>\n",
       "</table>\n",
       "</div>"
      ],
      "text/plain": [
       "   label                                              title  \\\n",
       "0      0  hillary rodham nixon candidate baggage samsoni...   \n",
       "1      0               watch dirty harry reid lie taxes win   \n",
       "2      0  hillary rodham nixon candidate baggage samsoni...   \n",
       "3      0  flashback king obama commutes sentences drug d...   \n",
       "4      0  benghazi panel calls hillary testify oath whit...   \n",
       "\n",
       "                                                text    subject        date  \n",
       "0  irony lost us hillary compared president wante...   politics  2015-03-31  \n",
       "1  case missed sen harry reid rnv announced last ...  left-news  2015-03-31  \n",
       "2  irony lost us hillary compared president wante...  left-news  2015-03-31  \n",
       "3  making room hillary president obama today anno...   politics  2015-03-31  \n",
       "4  anyone really think hillary clinton come clean...   politics  2015-03-31  "
      ]
     },
     "execution_count": 86,
     "metadata": {},
     "output_type": "execute_result"
    }
   ],
   "source": [
    "data_nostop.head()"
   ]
  },
  {
   "cell_type": "code",
   "execution_count": 87,
   "id": "f9177cba",
   "metadata": {},
   "outputs": [],
   "source": [
    "def stem_text(text):\n",
    "    tokens = word_tokenize(str(text))\n",
    "    return ' '.join([stemmer.stem(word) for word in tokens])\n",
    "\n",
    "def lemmatize_text(text):\n",
    "    tokens = word_tokenize(str(text))\n",
    "    return ' '.join([lemmatizer.lemmatize(word) for word in tokens])\n"
   ]
  },
  {
   "cell_type": "code",
   "execution_count": 88,
   "id": "ba524df8",
   "metadata": {},
   "outputs": [
    {
     "data": {
      "text/html": [
       "<div>\n",
       "<style scoped>\n",
       "    .dataframe tbody tr th:only-of-type {\n",
       "        vertical-align: middle;\n",
       "    }\n",
       "\n",
       "    .dataframe tbody tr th {\n",
       "        vertical-align: top;\n",
       "    }\n",
       "\n",
       "    .dataframe thead th {\n",
       "        text-align: right;\n",
       "    }\n",
       "</style>\n",
       "<table border=\"1\" class=\"dataframe\">\n",
       "  <thead>\n",
       "    <tr style=\"text-align: right;\">\n",
       "      <th></th>\n",
       "      <th>label</th>\n",
       "      <th>title</th>\n",
       "      <th>text</th>\n",
       "      <th>subject</th>\n",
       "      <th>date</th>\n",
       "    </tr>\n",
       "  </thead>\n",
       "  <tbody>\n",
       "    <tr>\n",
       "      <th>0</th>\n",
       "      <td>0</td>\n",
       "      <td>hillari rodham nixon candid baggag samsonit fa...</td>\n",
       "      <td>ironi lost us hillari compar presid want take ...</td>\n",
       "      <td>politics</td>\n",
       "      <td>2015-03-31</td>\n",
       "    </tr>\n",
       "    <tr>\n",
       "      <th>1</th>\n",
       "      <td>0</td>\n",
       "      <td>watch dirti harri reid lie tax win</td>\n",
       "      <td>case miss sen harri reid rnv announc last week...</td>\n",
       "      <td>left-news</td>\n",
       "      <td>2015-03-31</td>\n",
       "    </tr>\n",
       "    <tr>\n",
       "      <th>2</th>\n",
       "      <td>0</td>\n",
       "      <td>hillari rodham nixon candid baggag samsonit fa...</td>\n",
       "      <td>ironi lost us hillari compar presid want take ...</td>\n",
       "      <td>left-news</td>\n",
       "      <td>2015-03-31</td>\n",
       "    </tr>\n",
       "    <tr>\n",
       "      <th>3</th>\n",
       "      <td>0</td>\n",
       "      <td>flashback king obama commut sentenc drug dealer</td>\n",
       "      <td>make room hillari presid obama today announc d...</td>\n",
       "      <td>politics</td>\n",
       "      <td>2015-03-31</td>\n",
       "    </tr>\n",
       "    <tr>\n",
       "      <th>4</th>\n",
       "      <td>0</td>\n",
       "      <td>benghazi panel call hillari testifi oath white...</td>\n",
       "      <td>anyon realli think hillari clinton come clean ...</td>\n",
       "      <td>politics</td>\n",
       "      <td>2015-03-31</td>\n",
       "    </tr>\n",
       "  </tbody>\n",
       "</table>\n",
       "</div>"
      ],
      "text/plain": [
       "   label                                              title  \\\n",
       "0      0  hillari rodham nixon candid baggag samsonit fa...   \n",
       "1      0                 watch dirti harri reid lie tax win   \n",
       "2      0  hillari rodham nixon candid baggag samsonit fa...   \n",
       "3      0    flashback king obama commut sentenc drug dealer   \n",
       "4      0  benghazi panel call hillari testifi oath white...   \n",
       "\n",
       "                                                text    subject        date  \n",
       "0  ironi lost us hillari compar presid want take ...   politics  2015-03-31  \n",
       "1  case miss sen harri reid rnv announc last week...  left-news  2015-03-31  \n",
       "2  ironi lost us hillari compar presid want take ...  left-news  2015-03-31  \n",
       "3  make room hillari presid obama today announc d...   politics  2015-03-31  \n",
       "4  anyon realli think hillari clinton come clean ...   politics  2015-03-31  "
      ]
     },
     "execution_count": 88,
     "metadata": {},
     "output_type": "execute_result"
    }
   ],
   "source": [
    "# stem the data\n",
    "data_norm = data_nostop.copy()\n",
    "\n",
    "data_norm['title'] = data_norm['title'].apply(stem_text)\n",
    "data_norm['text'] = data_norm['text'].apply(stem_text)\n",
    "\n",
    "data_norm.head()"
   ]
  },
  {
   "cell_type": "code",
   "execution_count": 89,
   "id": "51c36f06",
   "metadata": {},
   "outputs": [
    {
     "data": {
      "text/html": [
       "<div>\n",
       "<style scoped>\n",
       "    .dataframe tbody tr th:only-of-type {\n",
       "        vertical-align: middle;\n",
       "    }\n",
       "\n",
       "    .dataframe tbody tr th {\n",
       "        vertical-align: top;\n",
       "    }\n",
       "\n",
       "    .dataframe thead th {\n",
       "        text-align: right;\n",
       "    }\n",
       "</style>\n",
       "<table border=\"1\" class=\"dataframe\">\n",
       "  <thead>\n",
       "    <tr style=\"text-align: right;\">\n",
       "      <th></th>\n",
       "      <th>label</th>\n",
       "      <th>title</th>\n",
       "      <th>text</th>\n",
       "      <th>subject</th>\n",
       "      <th>date</th>\n",
       "    </tr>\n",
       "  </thead>\n",
       "  <tbody>\n",
       "    <tr>\n",
       "      <th>0</th>\n",
       "      <td>0</td>\n",
       "      <td>hillari rodham nixon candid baggag samsonit fa...</td>\n",
       "      <td>ironi lost u hillari compar presid want take n...</td>\n",
       "      <td>politics</td>\n",
       "      <td>2015-03-31</td>\n",
       "    </tr>\n",
       "    <tr>\n",
       "      <th>1</th>\n",
       "      <td>0</td>\n",
       "      <td>watch dirti harri reid lie tax win</td>\n",
       "      <td>case miss sen harri reid rnv announc last week...</td>\n",
       "      <td>left-news</td>\n",
       "      <td>2015-03-31</td>\n",
       "    </tr>\n",
       "    <tr>\n",
       "      <th>2</th>\n",
       "      <td>0</td>\n",
       "      <td>hillari rodham nixon candid baggag samsonit fa...</td>\n",
       "      <td>ironi lost u hillari compar presid want take n...</td>\n",
       "      <td>left-news</td>\n",
       "      <td>2015-03-31</td>\n",
       "    </tr>\n",
       "    <tr>\n",
       "      <th>3</th>\n",
       "      <td>0</td>\n",
       "      <td>flashback king obama commut sentenc drug dealer</td>\n",
       "      <td>make room hillari presid obama today announc d...</td>\n",
       "      <td>politics</td>\n",
       "      <td>2015-03-31</td>\n",
       "    </tr>\n",
       "    <tr>\n",
       "      <th>4</th>\n",
       "      <td>0</td>\n",
       "      <td>benghazi panel call hillari testifi oath white...</td>\n",
       "      <td>anyon realli think hillari clinton come clean ...</td>\n",
       "      <td>politics</td>\n",
       "      <td>2015-03-31</td>\n",
       "    </tr>\n",
       "  </tbody>\n",
       "</table>\n",
       "</div>"
      ],
      "text/plain": [
       "   label                                              title  \\\n",
       "0      0  hillari rodham nixon candid baggag samsonit fa...   \n",
       "1      0                 watch dirti harri reid lie tax win   \n",
       "2      0  hillari rodham nixon candid baggag samsonit fa...   \n",
       "3      0    flashback king obama commut sentenc drug dealer   \n",
       "4      0  benghazi panel call hillari testifi oath white...   \n",
       "\n",
       "                                                text    subject        date  \n",
       "0  ironi lost u hillari compar presid want take n...   politics  2015-03-31  \n",
       "1  case miss sen harri reid rnv announc last week...  left-news  2015-03-31  \n",
       "2  ironi lost u hillari compar presid want take n...  left-news  2015-03-31  \n",
       "3  make room hillari presid obama today announc d...   politics  2015-03-31  \n",
       "4  anyon realli think hillari clinton come clean ...   politics  2015-03-31  "
      ]
     },
     "execution_count": 89,
     "metadata": {},
     "output_type": "execute_result"
    }
   ],
   "source": [
    "# lemmatize the data\n",
    "data_norm['title'] = data_norm['title'].apply(lemmatize_text)\n",
    "data_norm['text'] = data_norm['text'].apply(lemmatize_text)\n",
    "\n",
    "data_norm.head()"
   ]
  },
  {
   "cell_type": "markdown",
   "id": "663302dd",
   "metadata": {},
   "source": [
    "# More manual approach"
   ]
  },
  {
   "cell_type": "markdown",
   "id": "8cb03d32",
   "metadata": {},
   "source": [
    "## Split the data"
   ]
  },
  {
   "cell_type": "markdown",
   "id": "7bde7ea1",
   "metadata": {},
   "source": [
    "TimeSeriesSplit: https://scikit-learn.org/stable/modules/generated/sklearn.model_selection.TimeSeriesSplit.html\n",
    "\n",
    "\"With scikit-learn, you can use TimeSeriesSplit for cross-validation on time series data, but for a simple train/test split (as in your code), you should sort by date and split manually (as shown previously).\""
   ]
  },
  {
   "cell_type": "code",
   "execution_count": 90,
   "id": "1a808c8e",
   "metadata": {},
   "outputs": [],
   "source": [
    "#Manual approach\n",
    "\n",
    "# Ensure 'date' is a datetime column\n",
    "# data_norm['date'] = pd.to_datetime(data_norm['date'])\n",
    "\n",
    "# Sort by date\n",
    "# data_norm = data_norm.sort_values('date')\n",
    "\n",
    "# Define the split index\n",
    "# split_idx = int(len(data_norm) * 0.8)\n",
    "\n",
    "# Split chronologically\n",
    "# X = data_norm.drop(['label'], axis=1)\n",
    "# y = data_norm['label']\n",
    "\n",
    "# X_train = X.iloc[:split_idx]\n",
    "# X_test = X.iloc[split_idx:]\n",
    "# y_train = y.iloc[:split_idx]\n",
    "# y_test = y.iloc[split_idx:]\n",
    "\n",
    "# print(\"Training set shape:\", X_train.shape)\n",
    "# print(\"Test set shape:\", X_test.shape)"
   ]
  },
  {
   "cell_type": "markdown",
   "id": "dbb70067",
   "metadata": {},
   "source": [
    "## Feature Extraction"
   ]
  },
  {
   "cell_type": "markdown",
   "id": "09f2ba7f",
   "metadata": {},
   "source": [
    "## TF_IDF"
   ]
  },
  {
   "cell_type": "code",
   "execution_count": 91,
   "id": "6eeea32b",
   "metadata": {},
   "outputs": [
    {
     "ename": "NameError",
     "evalue": "name 'X_test' is not defined",
     "output_type": "error",
     "traceback": [
      "\u001b[0;31m---------------------------------------------------------------------------\u001b[0m",
      "\u001b[0;31mNameError\u001b[0m                                 Traceback (most recent call last)",
      "Cell \u001b[0;32mIn[91], line 8\u001b[0m\n\u001b[1;32m      6\u001b[0m \u001b[38;5;66;03m# TF-IDF for 'text'\u001b[39;00m\n\u001b[1;32m      7\u001b[0m X_train_text_tfidf \u001b[38;5;241m=\u001b[39m tfidf_vectorizer_text\u001b[38;5;241m.\u001b[39mfit_transform(X_train[\u001b[38;5;124m'\u001b[39m\u001b[38;5;124mtext\u001b[39m\u001b[38;5;124m'\u001b[39m])\n\u001b[0;32m----> 8\u001b[0m X_test_text_tfidf \u001b[38;5;241m=\u001b[39m tfidf_vectorizer_text\u001b[38;5;241m.\u001b[39mtransform(X_test[\u001b[38;5;124m'\u001b[39m\u001b[38;5;124mtext\u001b[39m\u001b[38;5;124m'\u001b[39m])\n\u001b[1;32m     10\u001b[0m \u001b[38;5;66;03m# TF-IDF for 'title'\u001b[39;00m\n\u001b[1;32m     11\u001b[0m tfidf_vectorizer_title \u001b[38;5;241m=\u001b[39m TfidfVectorizer()\n",
      "\u001b[0;31mNameError\u001b[0m: name 'X_test' is not defined"
     ]
    }
   ],
   "source": [
    "from sklearn.feature_extraction.text import TfidfVectorizer\n",
    "\n",
    "# Initialize the vectorizer\n",
    "tfidf_vectorizer_text = TfidfVectorizer()\n",
    "\n",
    "# TF-IDF for 'text'\n",
    "X_train_text_tfidf = tfidf_vectorizer_text.fit_transform(X_train['text'])\n",
    "X_test_text_tfidf = tfidf_vectorizer_text.transform(X_test['text'])\n",
    "\n",
    "# TF-IDF for 'title'\n",
    "tfidf_vectorizer_title = TfidfVectorizer()\n",
    "X_train_title_tfidf = tfidf_vectorizer_title.fit_transform(X_train['title'])\n",
    "X_test_title_tfidf = tfidf_vectorizer_title.transform(X_test['title'])\n",
    "\n",
    "# Print shapes\n",
    "print(\"Text TF-IDF shapes:\", X_train_text_tfidf.shape, X_test_text_tfidf.shape)\n",
    "print(\"Title TF-IDF shapes:\", X_train_title_tfidf.shape, X_test_title_tfidf.shape)  \n",
    "\n",
    "# Print feature names and first few rows for 'text'\n",
    "print(\"Text TF-IDF feature names:\", tfidf_vectorizer_text.get_feature_names_out())\n",
    "print(\"First 5 rows of text TF-IDF:\\n\", X_train_text_tfidf[:5].toarray())\n",
    "\n",
    "# Print feature names and first few rows for 'title'\n",
    "print(\"Title TF-IDF feature names:\", tfidf_vectorizer_title.get_feature_names_out())\n",
    "print(\"First 5 rows of title TF-IDF:\\n\", X_train_title_tfidf[:5].toarray())\n"
   ]
  },
  {
   "cell_type": "markdown",
   "id": "ab5534fa",
   "metadata": {},
   "source": [
    "## Train the Classifier"
   ]
  },
  {
   "cell_type": "markdown",
   "id": "dc866666",
   "metadata": {},
   "source": [
    "## Random Forest"
   ]
  },
  {
   "cell_type": "code",
   "execution_count": null,
   "id": "57db4582",
   "metadata": {},
   "outputs": [
    {
     "name": "stdout",
     "output_type": "stream",
     "text": [
      "Accuracy: 0.8535891089108911\n",
      "Classification Report:\n",
      "               precision    recall  f1-score   support\n",
      "\n",
      "           0       0.53      0.93      0.67      1302\n",
      "           1       0.98      0.84      0.91      6778\n",
      "\n",
      "    accuracy                           0.85      8080\n",
      "   macro avg       0.76      0.88      0.79      8080\n",
      "weighted avg       0.91      0.85      0.87      8080\n",
      "\n",
      "Confusion Matrix:\n",
      " [[1211   91]\n",
      " [1092 5686]]\n"
     ]
    }
   ],
   "source": [
    "# With title\n",
    "\n",
    "from sklearn.ensemble import RandomForestClassifier\n",
    "\n",
    "clf = RandomForestClassifier(n_estimators=100, random_state=42)\n",
    "clf.fit(X_train_title_tfidf, y_train)\n",
    "\n",
    "predictions_title = clf.predict(X_test_title_tfidf)\n",
    "\n",
    "from sklearn.metrics import accuracy_score, classification_report, confusion_matrix\n",
    "\n",
    "print(\"Accuracy:\", accuracy_score(y_test, predictions_title))\n",
    "print(\"Classification Report:\\n\", classification_report(y_test, predictions_title))\n",
    "print(\"Confusion Matrix:\\n\", confusion_matrix(y_test, predictions_title))\n"
   ]
  },
  {
   "cell_type": "code",
   "execution_count": null,
   "id": "f2ec513f",
   "metadata": {},
   "outputs": [
    {
     "name": "stdout",
     "output_type": "stream",
     "text": [
      "Accuracy: 0.9627475247524753\n",
      "Classification Report:\n",
      "               precision    recall  f1-score   support\n",
      "\n",
      "           0       0.82      0.99      0.90      1302\n",
      "           1       1.00      0.96      0.98      6778\n",
      "\n",
      "    accuracy                           0.96      8080\n",
      "   macro avg       0.91      0.98      0.94      8080\n",
      "weighted avg       0.97      0.96      0.96      8080\n",
      "\n",
      "Confusion Matrix:\n",
      " [[1293    9]\n",
      " [ 292 6486]]\n"
     ]
    }
   ],
   "source": [
    "# With text\n",
    "\n",
    "clf = RandomForestClassifier(n_estimators=100, random_state=42)\n",
    "clf.fit(X_train_text_tfidf, y_train)\n",
    "\n",
    "predictions_text = clf.predict(X_test_text_tfidf)\n",
    "\n",
    "print(\"Accuracy:\", accuracy_score(y_test, predictions_text))\n",
    "print(\"Classification Report:\\n\", classification_report(y_test, predictions_text))\n",
    "print(\"Confusion Matrix:\\n\", confusion_matrix(y_test, predictions_text))"
   ]
  },
  {
   "cell_type": "code",
   "execution_count": null,
   "id": "0bdb9205",
   "metadata": {},
   "outputs": [
    {
     "name": "stdout",
     "output_type": "stream",
     "text": [
      "Accuracy: 0.9608910891089109\n",
      "Classification Report:\n",
      "               precision    recall  f1-score   support\n",
      "\n",
      "           0       0.81      0.99      0.89      1302\n",
      "           1       1.00      0.95      0.98      6778\n",
      "\n",
      "    accuracy                           0.96      8080\n",
      "   macro avg       0.90      0.97      0.93      8080\n",
      "weighted avg       0.97      0.96      0.96      8080\n",
      "\n",
      "Confusion Matrix:\n",
      " [[1292   10]\n",
      " [ 306 6472]]\n"
     ]
    }
   ],
   "source": [
    "# Combined\n",
    "\n",
    "from scipy.sparse import hstack\n",
    "\n",
    "# Combine the TF-IDF features for text and title\n",
    "X_train_combined = hstack([X_train_text_tfidf, X_train_title_tfidf])\n",
    "X_test_combined = hstack([X_test_text_tfidf, X_test_title_tfidf])\n",
    "\n",
    "# Train the classifier on the combined features\n",
    "clf = RandomForestClassifier(n_estimators=100, random_state=42)\n",
    "clf.fit(X_train_combined, y_train)\n",
    "\n",
    "# Predict and evaluate\n",
    "predictions_combined = clf.predict(X_test_combined)\n",
    "print(\"Accuracy:\", accuracy_score(y_test, predictions_combined))\n",
    "print(\"Classification Report:\\n\", classification_report(y_test, predictions_combined))\n",
    "print(\"Confusion Matrix:\\n\", confusion_matrix(y_test, predictions_combined))"
   ]
  },
  {
   "cell_type": "markdown",
   "id": "978e03e8",
   "metadata": {},
   "source": [
    "## Logistic Regression"
   ]
  },
  {
   "cell_type": "code",
   "execution_count": null,
   "id": "bb67886f",
   "metadata": {},
   "outputs": [
    {
     "name": "stdout",
     "output_type": "stream",
     "text": [
      "Accuracy: 0.8601485148514851\n",
      "Classification Report:\n",
      "               precision    recall  f1-score   support\n",
      "\n",
      "           0       0.54      0.96      0.69      1302\n",
      "           1       0.99      0.84      0.91      6778\n",
      "\n",
      "    accuracy                           0.86      8080\n",
      "   macro avg       0.76      0.90      0.80      8080\n",
      "weighted avg       0.92      0.86      0.87      8080\n",
      "\n",
      "Confusion Matrix:\n",
      " [[1253   49]\n",
      " [1081 5697]]\n"
     ]
    }
   ],
   "source": [
    "# With title\n",
    "\n",
    "from sklearn.linear_model import LogisticRegression\n",
    "\n",
    "clf = LogisticRegression(random_state=42)\n",
    "clf.fit(X_train_title_tfidf, y_train)\n",
    "\n",
    "predictions_title = clf.predict(X_test_title_tfidf)\n",
    "\n",
    "print(\"Accuracy:\", accuracy_score(y_test, predictions_title))\n",
    "print(\"Classification Report:\\n\", classification_report(y_test, predictions_title))\n",
    "print(\"Confusion Matrix:\\n\", confusion_matrix(y_test, predictions_title))\n"
   ]
  },
  {
   "cell_type": "code",
   "execution_count": null,
   "id": "5ef5c818",
   "metadata": {},
   "outputs": [
    {
     "name": "stdout",
     "output_type": "stream",
     "text": [
      "Accuracy: 0.9709158415841584\n",
      "Classification Report:\n",
      "               precision    recall  f1-score   support\n",
      "\n",
      "           0       0.85      0.99      0.92      1302\n",
      "           1       1.00      0.97      0.98      6778\n",
      "\n",
      "    accuracy                           0.97      8080\n",
      "   macro avg       0.93      0.98      0.95      8080\n",
      "weighted avg       0.97      0.97      0.97      8080\n",
      "\n",
      "Confusion Matrix:\n",
      " [[1292   10]\n",
      " [ 225 6553]]\n"
     ]
    }
   ],
   "source": [
    "# With text\n",
    "\n",
    "clf = LogisticRegression(random_state=42)\n",
    "clf.fit(X_train_text_tfidf, y_train)\n",
    "\n",
    "predictions_text = clf.predict(X_test_text_tfidf)\n",
    "\n",
    "print(\"Accuracy:\", accuracy_score(y_test, predictions_text))\n",
    "print(\"Classification Report:\\n\", classification_report(y_test, predictions_text))\n",
    "print(\"Confusion Matrix:\\n\", confusion_matrix(y_test, predictions_text))"
   ]
  },
  {
   "cell_type": "code",
   "execution_count": null,
   "id": "3d46001e",
   "metadata": {},
   "outputs": [
    {
     "name": "stdout",
     "output_type": "stream",
     "text": [
      "Accuracy: 0.9804455445544554\n",
      "Classification Report:\n",
      "               precision    recall  f1-score   support\n",
      "\n",
      "           0       0.90      0.99      0.94      1302\n",
      "           1       1.00      0.98      0.99      6778\n",
      "\n",
      "    accuracy                           0.98      8080\n",
      "   macro avg       0.95      0.99      0.97      8080\n",
      "weighted avg       0.98      0.98      0.98      8080\n",
      "\n",
      "Confusion Matrix:\n",
      " [[1293    9]\n",
      " [ 149 6629]]\n"
     ]
    }
   ],
   "source": [
    "# Combined\n",
    "\n",
    "from scipy.sparse import hstack\n",
    "\n",
    "# Combine the TF-IDF features for text and title\n",
    "X_train_combined = hstack([X_train_text_tfidf, X_train_title_tfidf])\n",
    "X_test_combined = hstack([X_test_text_tfidf, X_test_title_tfidf])\n",
    "\n",
    "# Train the classifier on the combined features\n",
    "clf = LogisticRegression(random_state=42)\n",
    "clf.fit(X_train_combined, y_train)\n",
    "\n",
    "# Predict and evaluate\n",
    "predictions_combined = clf.predict(X_test_combined)\n",
    "print(\"Accuracy:\", accuracy_score(y_test, predictions_combined))\n",
    "print(\"Classification Report:\\n\", classification_report(y_test, predictions_combined))\n",
    "print(\"Confusion Matrix:\\n\", confusion_matrix(y_test, predictions_combined))"
   ]
  },
  {
   "cell_type": "markdown",
   "id": "1f476f35",
   "metadata": {},
   "source": [
    "### Transformer Model: DeBERTa v3 "
   ]
  },
  {
   "cell_type": "markdown",
   "id": "694d50bb",
   "metadata": {},
   "source": [
    "# Approach w/ Cross Validation"
   ]
  },
  {
   "cell_type": "markdown",
   "id": "6f33559c",
   "metadata": {},
   "source": [
    "## Split the data"
   ]
  },
  {
   "cell_type": "code",
   "execution_count": 92,
   "id": "ee492dab",
   "metadata": {},
   "outputs": [
    {
     "name": "stdout",
     "output_type": "stream",
     "text": [
      "Fold 1  train rows 6734  val rows 6733\n",
      "Fold 2  train rows 13467  val rows 6733\n",
      "Fold 3  train rows 20200  val rows 6733\n",
      "Fold 4  train rows 26933  val rows 6733\n",
      "Fold 5  train rows 33666  val rows 6733\n"
     ]
    }
   ],
   "source": [
    "\n",
    "from sklearn.model_selection import TimeSeriesSplit\n",
    "\n",
    "# Ensure datetime and sort by time\n",
    "data_norm[\"date\"] = pd.to_datetime(data_norm[\"date\"])\n",
    "data_norm = data_norm.sort_values(\"date\").reset_index(drop=True)\n",
    "\n",
    "# Features and target\n",
    "X = data_norm.drop(columns=[\"label\"])\n",
    "y = data_norm[\"label\"]\n",
    "\n",
    "# Remove raw date from features for modeling later\n",
    "X_feat = X.drop(columns=[\"date\"]) if \"date\" in X.columns else X\n",
    "\n",
    "# Build time series folds\n",
    "tscv = TimeSeriesSplit(n_splits=5)\n",
    "\n",
    "folds = []  # store indices and the sliced data for later use\n",
    "for fold_id, (tr_idx, va_idx) in enumerate(tscv.split(X_feat), start=1):\n",
    "    fold = {\n",
    "        \"train_idx\": tr_idx,\n",
    "        \"val_idx\": va_idx,\n",
    "        \"X_train\": X_feat.iloc[tr_idx],\n",
    "        \"X_val\": X_feat.iloc[va_idx],\n",
    "        \"y_train\": y.iloc[tr_idx],\n",
    "        \"y_val\": y.iloc[va_idx],\n",
    "    }\n",
    "    folds.append(fold)\n",
    "    print(f\"Fold {fold_id}  train rows {len(tr_idx)}  val rows {len(va_idx)}\")\n",
    "\n",
    "# Example of how to access one fold later\n",
    "# X_train = folds[0][\"X_train\"]\n",
    "# y_train = folds[0][\"y_train\"]\n",
    "# X_val   = folds[0][\"X_val\"]\n",
    "# y_val   = folds[0][\"y_val\"]\n"
   ]
  },
  {
   "cell_type": "code",
   "execution_count": 106,
   "id": "c3062a2d",
   "metadata": {},
   "outputs": [
    {
     "data": {
      "text/html": [
       "<div>\n",
       "<style scoped>\n",
       "    .dataframe tbody tr th:only-of-type {\n",
       "        vertical-align: middle;\n",
       "    }\n",
       "\n",
       "    .dataframe tbody tr th {\n",
       "        vertical-align: top;\n",
       "    }\n",
       "\n",
       "    .dataframe thead th {\n",
       "        text-align: right;\n",
       "    }\n",
       "</style>\n",
       "<table border=\"1\" class=\"dataframe\">\n",
       "  <thead>\n",
       "    <tr style=\"text-align: right;\">\n",
       "      <th></th>\n",
       "      <th>title</th>\n",
       "      <th>text</th>\n",
       "      <th>subject</th>\n",
       "    </tr>\n",
       "  </thead>\n",
       "  <tbody>\n",
       "    <tr>\n",
       "      <th>0</th>\n",
       "      <td>hillari rodham nixon candid baggag samsonit fa...</td>\n",
       "      <td>ironi lost u hillari compar presid want take n...</td>\n",
       "      <td>politics</td>\n",
       "    </tr>\n",
       "    <tr>\n",
       "      <th>1</th>\n",
       "      <td>watch dirti harri reid lie tax win</td>\n",
       "      <td>case miss sen harri reid rnv announc last week...</td>\n",
       "      <td>left-news</td>\n",
       "    </tr>\n",
       "    <tr>\n",
       "      <th>2</th>\n",
       "      <td>hillari rodham nixon candid baggag samsonit fa...</td>\n",
       "      <td>ironi lost u hillari compar presid want take n...</td>\n",
       "      <td>left-news</td>\n",
       "    </tr>\n",
       "    <tr>\n",
       "      <th>3</th>\n",
       "      <td>flashback king obama commut sentenc drug dealer</td>\n",
       "      <td>make room hillari presid obama today announc d...</td>\n",
       "      <td>politics</td>\n",
       "    </tr>\n",
       "    <tr>\n",
       "      <th>4</th>\n",
       "      <td>benghazi panel call hillari testifi oath white...</td>\n",
       "      <td>anyon realli think hillari clinton come clean ...</td>\n",
       "      <td>politics</td>\n",
       "    </tr>\n",
       "  </tbody>\n",
       "</table>\n",
       "</div>"
      ],
      "text/plain": [
       "                                               title  \\\n",
       "0  hillari rodham nixon candid baggag samsonit fa...   \n",
       "1                 watch dirti harri reid lie tax win   \n",
       "2  hillari rodham nixon candid baggag samsonit fa...   \n",
       "3    flashback king obama commut sentenc drug dealer   \n",
       "4  benghazi panel call hillari testifi oath white...   \n",
       "\n",
       "                                                text    subject  \n",
       "0  ironi lost u hillari compar presid want take n...   politics  \n",
       "1  case miss sen harri reid rnv announc last week...  left-news  \n",
       "2  ironi lost u hillari compar presid want take n...  left-news  \n",
       "3  make room hillari presid obama today announc d...   politics  \n",
       "4  anyon realli think hillari clinton come clean ...   politics  "
      ]
     },
     "execution_count": 106,
     "metadata": {},
     "output_type": "execute_result"
    }
   ],
   "source": [
    "X_feat.head()"
   ]
  },
  {
   "cell_type": "markdown",
   "id": "f88621b5",
   "metadata": {},
   "source": [
    "## Tf_IDF"
   ]
  },
  {
   "cell_type": "code",
   "execution_count": 93,
   "id": "22d10a84",
   "metadata": {},
   "outputs": [
    {
     "name": "stdout",
     "output_type": "stream",
     "text": [
      "Fold 1  train shape (6734, 58974)  val shape (6733, 58974)\n",
      "Fold 2  train shape (13467, 89256)  val shape (6733, 89256)\n",
      "Fold 3  train shape (20200, 113548)  val shape (6733, 113548)\n",
      "Fold 4  train shape (26933, 133802)  val shape (6733, 133802)\n",
      "Fold 5  train shape (33666, 152612)  val shape (6733, 152612)\n"
     ]
    }
   ],
   "source": [
    "from sklearn.feature_extraction.text import TfidfVectorizer\n",
    "from scipy.sparse import hstack\n",
    "\n",
    "tfidf_folds = []\n",
    "\n",
    "for i, fold in enumerate(folds, start=1):\n",
    "    X_tr = fold[\"X_train\"]\n",
    "    X_va = fold[\"X_val\"]\n",
    "\n",
    "    # Fit vectorizers on training only to avoid leakage\n",
    "    v_text = TfidfVectorizer()\n",
    "    v_title = TfidfVectorizer()\n",
    "\n",
    "    X_tr_text = v_text.fit_transform(X_tr[\"text\"].astype(str))\n",
    "    X_va_text = v_text.transform(X_va[\"text\"].astype(str))\n",
    "\n",
    "    X_tr_title = v_title.fit_transform(X_tr[\"title\"].astype(str))\n",
    "    X_va_title = v_title.transform(X_va[\"title\"].astype(str))\n",
    "\n",
    "    # Combine text and title features\n",
    "    X_tr_all = hstack([X_tr_text, X_tr_title])\n",
    "    X_va_all = hstack([X_va_text, X_va_title])\n",
    "\n",
    "    tfidf_folds.append({\n",
    "        \"X_train_tfidf\": X_tr_all,\n",
    "        \"X_val_tfidf\": X_va_all,\n",
    "        \"y_train\": fold[\"y_train\"].to_numpy(),\n",
    "        \"y_val\": fold[\"y_val\"].to_numpy(),\n",
    "        \"vec_text\": v_text,\n",
    "        \"vec_title\": v_title\n",
    "    })\n",
    "\n",
    "    print(f\"Fold {i}  train shape {X_tr_all.shape}  val shape {X_va_all.shape}\")\n"
   ]
  },
  {
   "cell_type": "markdown",
   "id": "2fe5c4dc",
   "metadata": {},
   "source": [
    "## Random Forest"
   ]
  },
  {
   "cell_type": "code",
   "execution_count": 100,
   "id": "518e5f5f",
   "metadata": {},
   "outputs": [
    {
     "name": "stdout",
     "output_type": "stream",
     "text": [
      "Fold 1  acc 0.908  f1 0.800  auc 0.998\n",
      "Fold 2  acc 0.962  f1 0.937  auc 0.999\n",
      "Fold 3  acc 0.982  f1 0.978  auc 0.999\n",
      "Fold 4  acc 0.921  f1 0.929  auc 0.996\n",
      "Fold 5  acc 0.984  f1 0.990  auc 0.999\n",
      "\n",
      "Summary across folds\n",
      "accuracy mean 0.951  std 0.032\n",
      "f1 mean 0.927  std 0.067\n",
      "auc mean 0.998  std 0.001\n",
      "\n",
      "Classification report for fold 1:\n",
      "              precision    recall  f1-score   support\n",
      "\n",
      "           0       0.89      1.00      0.94      4864\n",
      "           1       1.00      0.67      0.80      1869\n",
      "\n",
      "    accuracy                           0.91      6733\n",
      "   macro avg       0.94      0.83      0.87      6733\n",
      "weighted avg       0.92      0.91      0.90      6733\n",
      "\n",
      "Confusion matrix for fold 1:\n",
      "[[4864    0]\n",
      " [ 622 1247]]\n"
     ]
    }
   ],
   "source": [
    "import numpy as np\n",
    "from sklearn.ensemble import RandomForestClassifier\n",
    "from sklearn.metrics import accuracy_score, f1_score, roc_auc_score, classification_report, confusion_matrix\n",
    "\n",
    "rf_results = []\n",
    "all_reports = []  # optional, stores per fold classification reports\n",
    "\n",
    "# Detect if this is a binary task\n",
    "binary_task = len(np.unique(np.concatenate([f[\"y_train\"] for f in tfidf_folds]))) == 2\n",
    "\n",
    "for i, f in enumerate(tfidf_folds, start=1):\n",
    "    X_tr = f[\"X_train_tfidf\"]\n",
    "    y_tr = f[\"y_train\"]\n",
    "    X_va = f[\"X_val_tfidf\"]\n",
    "    y_va = f[\"y_val\"]\n",
    "\n",
    "    clf_rf = RandomForestClassifier(\n",
    "        n_estimators=300,\n",
    "        random_state=42,\n",
    "        n_jobs=-1,\n",
    "        class_weight=\"balanced_subsample\"\n",
    "    )\n",
    "    clf_rf.fit(X_tr, y_tr)\n",
    "\n",
    "    preds = clf_rf.predict(X_va)\n",
    "    acc = accuracy_score(y_va, preds)\n",
    "    f1 = f1_score(y_va, preds, average=\"binary\" if binary_task else \"macro\")\n",
    "\n",
    "    fold_res = {\"fold\": i, \"accuracy\": acc, \"f1\": f1}\n",
    "\n",
    "    if binary_task:\n",
    "        proba = clf_rf.predict_proba(X_va)[:, 1]\n",
    "        auc = roc_auc_score(y_va, proba)\n",
    "        fold_res[\"auc\"] = auc\n",
    "        print(f\"Fold {i}  acc {acc:.3f}  f1 {f1:.3f}  auc {auc:.3f}\")\n",
    "    else:\n",
    "        print(f\"Fold {i}  acc {acc:.3f}  f1 {f1:.3f}\")\n",
    "\n",
    "    # Optional detailed report and confusion matrix per fold\n",
    "    rpt = classification_report(y_va, preds)\n",
    "    cm = confusion_matrix(y_va, preds)\n",
    "    all_reports.append((i, rpt, cm))\n",
    "\n",
    "    rf_results.append(fold_res)\n",
    "\n",
    "# Summary\n",
    "acc_mean = np.mean([r[\"accuracy\"] for r in rf_results])\n",
    "acc_std  = np.std([r[\"accuracy\"] for r in rf_results])\n",
    "f1_mean  = np.mean([r[\"f1\"] for r in rf_results])\n",
    "f1_std   = np.std([r[\"f1\"] for r in rf_results])\n",
    "\n",
    "print(\"\\nSummary across folds\")\n",
    "print(f\"accuracy mean {acc_mean:.3f}  std {acc_std:.3f}\")\n",
    "print(f\"f1 mean {f1_mean:.3f}  std {f1_std:.3f}\")\n",
    "if binary_task:\n",
    "    auc_mean = np.mean([r[\"auc\"] for r in rf_results])\n",
    "    auc_std  = np.std([r[\"auc\"] for r in rf_results])\n",
    "    print(f\"auc mean {auc_mean:.3f}  std {auc_std:.3f}\")\n",
    "\n",
    "# If you want to see one fold report and confusion matrix\n",
    "k = 0  # change to another index to inspect a different fold\n",
    "fold_id, report, cmatrix = all_reports[k]\n",
    "print(f\"\\nClassification report for fold {fold_id}:\\n{report}\")\n",
    "print(f\"Confusion matrix for fold {fold_id}:\\n{cmatrix}\")\n"
   ]
  },
  {
   "cell_type": "code",
   "execution_count": 109,
   "id": "cc775b2c",
   "metadata": {},
   "outputs": [
    {
     "data": {
      "text/plain": [
       "['vectorizer_title.pkl']"
      ]
     },
     "execution_count": 109,
     "metadata": {},
     "output_type": "execute_result"
    }
   ],
   "source": [
    "# save model\n",
    "import joblib\n",
    "joblib.dump(clf_rf, \"modelRF.pkl\")\n",
    "joblib.dump(v_text, \"vectorizer_text.pkl\")\n",
    "joblib.dump(v_title, \"vectorizer_title.pkl\")\n"
   ]
  },
  {
   "cell_type": "markdown",
   "id": "5b54c47a",
   "metadata": {},
   "source": [
    "## Logistic Regression"
   ]
  },
  {
   "cell_type": "code",
   "execution_count": 107,
   "id": "8b9050d9",
   "metadata": {},
   "outputs": [
    {
     "name": "stdout",
     "output_type": "stream",
     "text": [
      "Fold 1  acc 0.976  f1 0.956  auc 0.997\n",
      "Fold 2  acc 0.982  f1 0.973  auc 0.999\n",
      "Fold 3  acc 0.985  f1 0.982  auc 0.999\n",
      "Fold 4  acc 0.964  f1 0.969  auc 0.997\n",
      "Fold 5  acc 0.990  f1 0.994  auc 0.999\n",
      "\n",
      "Summary across folds\n",
      "accuracy mean 0.980  std 0.009\n",
      "f1 mean 0.975  std 0.013\n",
      "auc mean 0.998  std 0.001\n",
      "\n",
      "Classification report for fold 1:\n",
      "              precision    recall  f1-score   support\n",
      "\n",
      "           0       0.98      0.99      0.98      4864\n",
      "           1       0.98      0.94      0.96      1869\n",
      "\n",
      "    accuracy                           0.98      6733\n",
      "   macro avg       0.98      0.96      0.97      6733\n",
      "weighted avg       0.98      0.98      0.98      6733\n",
      "\n",
      "Confusion matrix for fold 1:\n",
      "[[4821   43]\n",
      " [ 119 1750]]\n"
     ]
    }
   ],
   "source": [
    "import numpy as np\n",
    "from sklearn.linear_model import LogisticRegression\n",
    "from sklearn.metrics import accuracy_score, f1_score, roc_auc_score, classification_report, confusion_matrix\n",
    "\n",
    "lr_results = []\n",
    "all_reports = []\n",
    "\n",
    "# Detect if this is a binary task\n",
    "binary_task = len(np.unique(np.concatenate([f[\"y_train\"] for f in tfidf_folds]))) == 2\n",
    "\n",
    "for i, f in enumerate(tfidf_folds, start=1):\n",
    "    X_tr = f[\"X_train_tfidf\"]\n",
    "    y_tr = f[\"y_train\"]\n",
    "    X_va = f[\"X_val_tfidf\"]\n",
    "    y_va = f[\"y_val\"]\n",
    "\n",
    "    # Sparse friendly solver, works for binary and multiclass\n",
    "    clf_lr = LogisticRegression(\n",
    "        max_iter=2000,\n",
    "        class_weight=\"balanced\",\n",
    "        solver=\"saga\",\n",
    "        penalty=\"l2\"\n",
    "    )\n",
    "    clf_lr.fit(X_tr, y_tr)\n",
    "\n",
    "    preds = clf_lr.predict(X_va)\n",
    "    acc = accuracy_score(y_va, preds)\n",
    "    f1 = f1_score(y_va, preds, average=\"binary\" if binary_task else \"macro\")\n",
    "\n",
    "    fold_res = {\"fold\": i, \"accuracy\": acc, \"f1\": f1}\n",
    "\n",
    "    if binary_task:\n",
    "        proba = clf_lr.predict_proba(X_va)[:, 1]\n",
    "        auc = roc_auc_score(y_va, proba)\n",
    "        fold_res[\"auc\"] = auc\n",
    "        print(f\"Fold {i}  acc {acc:.3f}  f1 {f1:.3f}  auc {auc:.3f}\")\n",
    "    else:\n",
    "        print(f\"Fold {i}  acc {acc:.3f}  f1 {f1:.3f}\")\n",
    "\n",
    "    rpt = classification_report(y_va, preds)\n",
    "    cm = confusion_matrix(y_va, preds)\n",
    "    all_reports.append((i, rpt, cm))\n",
    "\n",
    "    lr_results.append(fold_res)\n",
    "\n",
    "# Summary\n",
    "acc_mean = np.mean([r[\"accuracy\"] for r in lr_results])\n",
    "acc_std  = np.std([r[\"accuracy\"] for r in lr_results])\n",
    "f1_mean  = np.mean([r[\"f1\"] for r in lr_results])\n",
    "f1_std   = np.std([r[\"f1\"] for r in lr_results])\n",
    "\n",
    "print(\"\\nSummary across folds\")\n",
    "print(f\"accuracy mean {acc_mean:.3f}  std {acc_std:.3f}\")\n",
    "print(f\"f1 mean {f1_mean:.3f}  std {f1_std:.3f}\")\n",
    "if binary_task:\n",
    "    auc_mean = np.mean([r[\"auc\"] for r in lr_results])\n",
    "    auc_std  = np.std([r[\"auc\"] for r in lr_results])\n",
    "    print(f\"auc mean {auc_mean:.3f}  std {auc_std:.3f}\")\n",
    "\n",
    "# Inspect one fold\n",
    "k = 0\n",
    "fold_id, report, cmatrix = all_reports[k]\n",
    "print(f\"\\nClassification report for fold {fold_id}:\\n{report}\")\n",
    "print(f\"Confusion matrix for fold {fold_id}:\\n{cmatrix}\")"
   ]
  },
  {
   "cell_type": "code",
   "execution_count": 108,
   "id": "5683671c",
   "metadata": {},
   "outputs": [
    {
     "data": {
      "text/plain": [
       "['modelLR.pkl']"
      ]
     },
     "execution_count": 108,
     "metadata": {},
     "output_type": "execute_result"
    }
   ],
   "source": [
    "# save model\n",
    "\n",
    "import joblib\n",
    "joblib.dump(clf_lr, \"modelLR.pkl\")   # save"
   ]
  },
  {
   "cell_type": "code",
   "execution_count": null,
   "id": "0a13e00a",
   "metadata": {},
   "outputs": [
    {
     "data": {
      "image/png": "[encoded data removed]",
      "text/plain": [
       "<Figure size 640x480 with 1 Axes>"
      ]
     },
     "metadata": {},
     "output_type": "display_data"
    },
    {
     "data": {
      "image/png": "[encoded data removed]",
      "text/plain": [
       "<Figure size 640x480 with 1 Axes>"
      ]
     },
     "metadata": {},
     "output_type": "display_data"
    },
    {
     "data": {
      "image/png": "[encoded data removed]",
      "text/plain": [
       "<Figure size 640x480 with 1 Axes>"
      ]
     },
     "metadata": {},
     "output_type": "display_data"
    }
   ],
   "source": [
    "\n",
    "\n",
    "# Plot train versus validation F1 by fold\n",
    "plt.figure()\n",
    "xs = list(range(1, len(tfidf_folds) + 1))\n",
    "plt.plot(xs, train_f1s, marker=\"o\", label=\"Train F1\")\n",
    "plt.plot(xs, val_f1s, marker=\"o\", label=\"Validation F1\")\n",
    "plt.xlabel(\"Fold\")\n",
    "plt.ylabel(\"F1 score\")\n",
    "plt.title(\"Train versus validation F1 by fold\")\n",
    "plt.grid(True)\n",
    "plt.legend()\n",
    "plt.show()\n",
    "\n",
    "# Optional second view, accuracy by fold\n",
    "plt.figure()\n",
    "plt.plot(xs, train_accs, marker=\"o\", label=\"Train accuracy\")\n",
    "plt.plot(xs, val_accs, marker=\"o\", label=\"Validation accuracy\")\n",
    "plt.xlabel(\"Fold\")\n",
    "plt.ylabel(\"Accuracy\")\n",
    "plt.title(\"Train versus validation accuracy by fold\")\n",
    "plt.grid(True)\n",
    "plt.legend()\n",
    "plt.show()\n",
    "\n",
    "# Learning curve on the last fold\n",
    "fold = tfidf_folds[-1]\n",
    "X_tr = fold[\"X_train_tfidf\"]; y_tr = fold[\"y_train\"]\n",
    "X_va = fold[\"X_val_tfidf\"];   y_va = fold[\"y_val\"]\n",
    "\n",
    "fractions = [0.2, 0.4, 0.6, 0.8, 1.0]\n",
    "val_curve, train_curve = [], []\n",
    "\n",
    "for frac in fractions:\n",
    "    n = max(1, int(len(y_tr) * frac))\n",
    "    clf = LogisticRegression(\n",
    "        max_iter=2000,\n",
    "        class_weight=\"balanced\",\n",
    "        solver=\"saga\",\n",
    "        penalty=\"l2\"\n",
    "    ).fit(X_tr[:n], y_tr[:n])\n",
    "\n",
    "    pred_va = clf.predict(X_va)\n",
    "    pred_tr = clf.predict(X_tr[:n])\n",
    "\n",
    "    val_curve.append(f1_score(y_va, pred_va))\n",
    "    train_curve.append(f1_score(y_tr[:n], pred_tr))\n",
    "\n",
    "plt.figure()\n",
    "plt.plot(fractions, train_curve, marker=\"o\", label=\"Train F1\")\n",
    "plt.plot(fractions, val_curve, marker=\"o\", label=\"Validation F1\")\n",
    "plt.xlabel(\"Training fraction of the last fold\")\n",
    "plt.ylabel(\"F1 score\")\n",
    "plt.title(\"Learning curve on the last fold\")\n",
    "plt.grid(True)\n",
    "plt.legend()\n",
    "plt.show()\n"
   ]
  },
  {
   "cell_type": "markdown",
   "id": "e81df60e",
   "metadata": {},
   "source": []
  }
 ],
 "metadata": {
  "kernelspec": {
   "display_name": "base",
   "language": "python",
   "name": "python3"
  },
  "language_info": {
   "codemirror_mode": {
    "name": "ipython",
    "version": 3
   },
   "file_extension": ".py",
   "mimetype": "text/x-python",
   "name": "python",
   "nbconvert_exporter": "python",
   "pygments_lexer": "ipython3",
   "version": "3.13.5"
  }
 },
 "nbformat": 4,
 "nbformat_minor": 5
}
