{
 "cells": [
  {
   "cell_type": "markdown",
   "id": "088fd9a4",
   "metadata": {},
   "source": [
    "Load model"
   ]
  },
  {
   "cell_type": "code",
   "execution_count": null,
   "id": "74ab6be5",
   "metadata": {},
   "outputs": [],
   "source": [
    "\n",
    "import nltk\n",
    "import re\n",
    "import string\n",
    "import pandas as pd\n",
    "import matplotlib.pyplot as plt\n",
    "from nltk.corpus import stopwords\n",
    "from nltk.tokenize import word_tokenize\n",
    "from nltk.stem import PorterStemmer, WordNetLemmatizer\n",
    "from nltk import pos_tag\n",
    "from sklearn.feature_extraction.text import CountVectorizer, TfidfVectorizer\n",
    "\n",
    "import numpy as np\n",
    "\n",
    "from sklearn.model_selection import TimeSeriesSplit\n",
    "from sklearn.pipeline import Pipeline\n",
    "from sklearn.preprocessing import StandardScaler\n",
    "from sklearn.metrics import accuracy_score, f1_score, roc_auc_score\n",
    "\n",
    "from sklearn.linear_model import LogisticRegression\n",
    "from sklearn.ensemble import RandomForestClassifier, GradientBoostingClassifier\n",
    "\n",
    "import joblib"
   ]
  },
  {
   "cell_type": "code",
   "execution_count": 19,
   "id": "f7832e3c",
   "metadata": {},
   "outputs": [
    {
     "name": "stdout",
     "output_type": "stream",
     "text": [
      "(4489, 4)\n",
      "                                               title  \\\n",
      "0  Syria toxic gas inquiry to end after Russia ag...   \n",
      "1  Greeks march to mark 1973 student revolt again...   \n",
      "2  China says will work with North Korea to boost...   \n",
      "3  Argentina intensifies search for missing subma...   \n",
      "4  MUST READ: Iâm Still Trying To Figure Out Ho...   \n",
      "\n",
      "                                                text    subject        date  \n",
      "0  UNITED NATIONS (Reuters) - An international in...  worldnews  2017-11-17  \n",
      "1  ATHENS (Reuters) - Greek police clashed with h...  worldnews  2017-11-17  \n",
      "2  BEIJING/SEOUL (Reuters) - Traditional friendsh...  worldnews  2017-11-17  \n",
      "3  BUENOS AIRES (Reuters) - An Argentine submarin...  worldnews  2017-11-17  \n",
      "4  Once you ve read this list, you re going to wa...  left-news  2017-11-17  \n"
     ]
    }
   ],
   "source": [
    "## Read Data\n",
    "\n",
    "import pandas as pd\n",
    "\n",
    "data = pd.read_csv(\"test_data_no_labels.csv\",encoding='latin-1')\n",
    "\n",
    "print(data.shape)\n",
    "\n",
    "print(data.head())"
   ]
  },
  {
   "cell_type": "markdown",
   "id": "4d031403",
   "metadata": {},
   "source": [
    "# Preprocessing"
   ]
  },
  {
   "cell_type": "code",
   "execution_count": 38,
   "id": "8468d591",
   "metadata": {},
   "outputs": [
    {
     "data": {
      "text/html": [
       "<div>\n",
       "<style scoped>\n",
       "    .dataframe tbody tr th:only-of-type {\n",
       "        vertical-align: middle;\n",
       "    }\n",
       "\n",
       "    .dataframe tbody tr th {\n",
       "        vertical-align: top;\n",
       "    }\n",
       "\n",
       "    .dataframe thead th {\n",
       "        text-align: right;\n",
       "    }\n",
       "</style>\n",
       "<table border=\"1\" class=\"dataframe\">\n",
       "  <thead>\n",
       "    <tr style=\"text-align: right;\">\n",
       "      <th></th>\n",
       "      <th>title</th>\n",
       "      <th>text</th>\n",
       "      <th>subject</th>\n",
       "      <th>date</th>\n",
       "    </tr>\n",
       "  </thead>\n",
       "  <tbody>\n",
       "    <tr>\n",
       "      <th>0</th>\n",
       "      <td>syria toxic gas inquiry to end after russia ag...</td>\n",
       "      <td>united nations reuters an international invest...</td>\n",
       "      <td>worldnews</td>\n",
       "      <td>2017-11-17</td>\n",
       "    </tr>\n",
       "    <tr>\n",
       "      <th>1</th>\n",
       "      <td>greeks march to mark 1973 student revolt again...</td>\n",
       "      <td>athens reuters greek police clashed with hoode...</td>\n",
       "      <td>worldnews</td>\n",
       "      <td>2017-11-17</td>\n",
       "    </tr>\n",
       "    <tr>\n",
       "      <th>2</th>\n",
       "      <td>china says will work with north korea to boost...</td>\n",
       "      <td>beijingseoul reuters traditional friendship be...</td>\n",
       "      <td>worldnews</td>\n",
       "      <td>2017-11-17</td>\n",
       "    </tr>\n",
       "    <tr>\n",
       "      <th>3</th>\n",
       "      <td>argentina intensifies search for missing subma...</td>\n",
       "      <td>buenos aires reuters an argentine submarine wi...</td>\n",
       "      <td>worldnews</td>\n",
       "      <td>2017-11-17</td>\n",
       "    </tr>\n",
       "    <tr>\n",
       "      <th>4</th>\n",
       "      <td>must read ix80x99m still trying to figure out ...</td>\n",
       "      <td>once you ve read this list you re going to wan...</td>\n",
       "      <td>left-news</td>\n",
       "      <td>2017-11-17</td>\n",
       "    </tr>\n",
       "  </tbody>\n",
       "</table>\n",
       "</div>"
      ],
      "text/plain": [
       "                                               title  \\\n",
       "0  syria toxic gas inquiry to end after russia ag...   \n",
       "1  greeks march to mark 1973 student revolt again...   \n",
       "2  china says will work with north korea to boost...   \n",
       "3  argentina intensifies search for missing subma...   \n",
       "4  must read ix80x99m still trying to figure out ...   \n",
       "\n",
       "                                                text    subject        date  \n",
       "0  united nations reuters an international invest...  worldnews  2017-11-17  \n",
       "1  athens reuters greek police clashed with hoode...  worldnews  2017-11-17  \n",
       "2  beijingseoul reuters traditional friendship be...  worldnews  2017-11-17  \n",
       "3  buenos aires reuters an argentine submarine wi...  worldnews  2017-11-17  \n",
       "4  once you ve read this list you re going to wan...  left-news  2017-11-17  "
      ]
     },
     "execution_count": 38,
     "metadata": {},
     "output_type": "execute_result"
    }
   ],
   "source": [
    "from nltk.tokenize import word_tokenize\n",
    "\n",
    "# Tokenize 'title' and 'text' columns and store as new columns\n",
    "data['title'] = data['title'].apply(lambda x: word_tokenize(str(x)))\n",
    "data['text'] = data['text'].apply(lambda x: word_tokenize(str(x)))\n",
    "\n",
    "def clean_text(text: str) -> str:\n",
    "    # Ensure we are working with a string\n",
    "    text = str(text)\n",
    "\n",
    "    # Remove all special characters (keep only letters, numbers, and spaces)\n",
    "    text = re.sub(r\"[^A-Za-z0-9\\s]\", \"\", text)\n",
    "\n",
    "    # Remove all single characters (like \"a\", \"b\", \"c\" standing alone)\n",
    "    text = re.sub(r\"\\b[A-Za-z]\\b\", \"\", text)\n",
    "\n",
    "    # Remove single characters from the start of the text\n",
    "    text = re.sub(r\"^[A-Za-z]\\s+\", \"\", text)\n",
    "\n",
    "    # Replace multiple spaces with a single space\n",
    "    text = re.sub(r\"\\s+\", \" \", text)\n",
    "\n",
    "    # Convert everything to lowercase\n",
    "    text = text.lower()\n",
    "\n",
    "    return text\n",
    "\n",
    "\n",
    "# clean text\n",
    "data['text'] = data['text'].apply(clean_text)\n",
    "\n",
    "# clean title\n",
    "data['title'] = data['title'].apply(clean_text)\n",
    "\n",
    "data.head() \n",
    "\n"
   ]
  },
  {
   "cell_type": "code",
   "execution_count": 39,
   "id": "03ae8e14",
   "metadata": {},
   "outputs": [
    {
     "data": {
      "text/html": [
       "<div>\n",
       "<style scoped>\n",
       "    .dataframe tbody tr th:only-of-type {\n",
       "        vertical-align: middle;\n",
       "    }\n",
       "\n",
       "    .dataframe tbody tr th {\n",
       "        vertical-align: top;\n",
       "    }\n",
       "\n",
       "    .dataframe thead th {\n",
       "        text-align: right;\n",
       "    }\n",
       "</style>\n",
       "<table border=\"1\" class=\"dataframe\">\n",
       "  <thead>\n",
       "    <tr style=\"text-align: right;\">\n",
       "      <th></th>\n",
       "      <th>title</th>\n",
       "      <th>text</th>\n",
       "      <th>subject</th>\n",
       "      <th>date</th>\n",
       "    </tr>\n",
       "  </thead>\n",
       "  <tbody>\n",
       "    <tr>\n",
       "      <th>0</th>\n",
       "      <td>syria toxic gas inquiry end russia blocks un r...</td>\n",
       "      <td>united nations reuters international investiga...</td>\n",
       "      <td>worldnews</td>\n",
       "      <td>2017-11-17</td>\n",
       "    </tr>\n",
       "    <tr>\n",
       "      <th>1</th>\n",
       "      <td>greeks march mark student revolt junta clashes...</td>\n",
       "      <td>athens reuters greek police clashed hooded you...</td>\n",
       "      <td>worldnews</td>\n",
       "      <td>2017-11-17</td>\n",
       "    </tr>\n",
       "    <tr>\n",
       "      <th>2</th>\n",
       "      <td>china says work north korea boost ties envoy v...</td>\n",
       "      <td>beijingseoul reuters traditional friendship ch...</td>\n",
       "      <td>worldnews</td>\n",
       "      <td>2017-11-17</td>\n",
       "    </tr>\n",
       "    <tr>\n",
       "      <th>3</th>\n",
       "      <td>argentina intensifies search missing submarine...</td>\n",
       "      <td>buenos aires reuters argentine submarine crew ...</td>\n",
       "      <td>worldnews</td>\n",
       "      <td>2017-11-17</td>\n",
       "    </tr>\n",
       "    <tr>\n",
       "      <th>4</th>\n",
       "      <td>must read still trying figure hillary lost</td>\n",
       "      <td>read list going want share everyone know russi...</td>\n",
       "      <td>left-news</td>\n",
       "      <td>2017-11-17</td>\n",
       "    </tr>\n",
       "  </tbody>\n",
       "</table>\n",
       "</div>"
      ],
      "text/plain": [
       "                                               title  \\\n",
       "0  syria toxic gas inquiry end russia blocks un r...   \n",
       "1  greeks march mark student revolt junta clashes...   \n",
       "2  china says work north korea boost ties envoy v...   \n",
       "3  argentina intensifies search missing submarine...   \n",
       "4         must read still trying figure hillary lost   \n",
       "\n",
       "                                                text    subject        date  \n",
       "0  united nations reuters international investiga...  worldnews  2017-11-17  \n",
       "1  athens reuters greek police clashed hooded you...  worldnews  2017-11-17  \n",
       "2  beijingseoul reuters traditional friendship ch...  worldnews  2017-11-17  \n",
       "3  buenos aires reuters argentine submarine crew ...  worldnews  2017-11-17  \n",
       "4  read list going want share everyone know russi...  left-news  2017-11-17  "
      ]
     },
     "execution_count": 39,
     "metadata": {},
     "output_type": "execute_result"
    }
   ],
   "source": [
    "stop_words = set(stopwords.words('english'))\n",
    "\n",
    "def remove_stopwords(text):\n",
    "    tokens = word_tokenize(str(text))\n",
    "    filtered = [word for word in tokens if word.lower() not in stop_words and word.isalpha()]\n",
    "    return ' '.join(filtered)\n",
    "\n",
    "# Make a copy to preserve the original data\n",
    "data_nostop = data.copy()\n",
    "\n",
    "# Replace the columns with stopword-removed text\n",
    "data_nostop['title'] = data_nostop['title'].apply(remove_stopwords)\n",
    "data_nostop['text'] = data_nostop['text'].apply(remove_stopwords)\n",
    "\n",
    "data_nostop.head()\n"
   ]
  },
  {
   "cell_type": "code",
   "execution_count": 40,
   "id": "5ab35c36",
   "metadata": {},
   "outputs": [
    {
     "data": {
      "text/html": [
       "<div>\n",
       "<style scoped>\n",
       "    .dataframe tbody tr th:only-of-type {\n",
       "        vertical-align: middle;\n",
       "    }\n",
       "\n",
       "    .dataframe tbody tr th {\n",
       "        vertical-align: top;\n",
       "    }\n",
       "\n",
       "    .dataframe thead th {\n",
       "        text-align: right;\n",
       "    }\n",
       "</style>\n",
       "<table border=\"1\" class=\"dataframe\">\n",
       "  <thead>\n",
       "    <tr style=\"text-align: right;\">\n",
       "      <th></th>\n",
       "      <th>title</th>\n",
       "      <th>text</th>\n",
       "      <th>subject</th>\n",
       "      <th>date</th>\n",
       "    </tr>\n",
       "  </thead>\n",
       "  <tbody>\n",
       "    <tr>\n",
       "      <th>0</th>\n",
       "      <td>syria toxic ga inquiri end russia block un renew</td>\n",
       "      <td>unit nation reuter intern investig blame chemi...</td>\n",
       "      <td>worldnews</td>\n",
       "      <td>2017-11-17</td>\n",
       "    </tr>\n",
       "    <tr>\n",
       "      <th>1</th>\n",
       "      <td>greek march mark student revolt junta clash break</td>\n",
       "      <td>athen reuter greek polic clash hood youth athe...</td>\n",
       "      <td>worldnews</td>\n",
       "      <td>2017-11-17</td>\n",
       "    </tr>\n",
       "    <tr>\n",
       "      <th>2</th>\n",
       "      <td>china say work north korea boost tie envoy visit</td>\n",
       "      <td>beijingseoul reuter tradit friendship china no...</td>\n",
       "      <td>worldnews</td>\n",
       "      <td>2017-11-17</td>\n",
       "    </tr>\n",
       "    <tr>\n",
       "      <th>3</th>\n",
       "      <td>argentina intensifi search miss submarin crew</td>\n",
       "      <td>bueno air reuter argentin submarin crew board ...</td>\n",
       "      <td>worldnews</td>\n",
       "      <td>2017-11-17</td>\n",
       "    </tr>\n",
       "    <tr>\n",
       "      <th>4</th>\n",
       "      <td>must read still tri figur hillari lost</td>\n",
       "      <td>read list go want share everyon know russian u...</td>\n",
       "      <td>left-news</td>\n",
       "      <td>2017-11-17</td>\n",
       "    </tr>\n",
       "  </tbody>\n",
       "</table>\n",
       "</div>"
      ],
      "text/plain": [
       "                                               title  \\\n",
       "0   syria toxic ga inquiri end russia block un renew   \n",
       "1  greek march mark student revolt junta clash break   \n",
       "2   china say work north korea boost tie envoy visit   \n",
       "3      argentina intensifi search miss submarin crew   \n",
       "4             must read still tri figur hillari lost   \n",
       "\n",
       "                                                text    subject        date  \n",
       "0  unit nation reuter intern investig blame chemi...  worldnews  2017-11-17  \n",
       "1  athen reuter greek polic clash hood youth athe...  worldnews  2017-11-17  \n",
       "2  beijingseoul reuter tradit friendship china no...  worldnews  2017-11-17  \n",
       "3  bueno air reuter argentin submarin crew board ...  worldnews  2017-11-17  \n",
       "4  read list go want share everyon know russian u...  left-news  2017-11-17  "
      ]
     },
     "execution_count": 40,
     "metadata": {},
     "output_type": "execute_result"
    }
   ],
   "source": [
    "stemmer = PorterStemmer()\n",
    "lemmatizer = WordNetLemmatizer()\n",
    "\n",
    "def stem_text(text):\n",
    "    tokens = word_tokenize(str(text))\n",
    "    return ' '.join([stemmer.stem(word) for word in tokens])\n",
    "\n",
    "def lemmatize_text(text):\n",
    "    tokens = word_tokenize(str(text))\n",
    "    return ' '.join([lemmatizer.lemmatize(word) for word in tokens])\n",
    "\n",
    "# stem the data\n",
    "data_norm = data_nostop.copy()\n",
    "\n",
    "data_norm['title'] = data_norm['title'].apply(stem_text)\n",
    "data_norm['text'] = data_norm['text'].apply(stem_text)\n",
    "\n",
    "data_norm.head()\n",
    "\n",
    "# lemmatize the data\n",
    "data_norm['title'] = data_norm['title'].apply(lemmatize_text)\n",
    "data_norm['text'] = data_norm['text'].apply(lemmatize_text)\n",
    "\n",
    "data_norm.head()   \n"
   ]
  },
  {
   "cell_type": "code",
   "execution_count": 52,
   "id": "d326290a",
   "metadata": {},
   "outputs": [
    {
     "data": {
      "text/html": [
       "<div>\n",
       "<style scoped>\n",
       "    .dataframe tbody tr th:only-of-type {\n",
       "        vertical-align: middle;\n",
       "    }\n",
       "\n",
       "    .dataframe tbody tr th {\n",
       "        vertical-align: top;\n",
       "    }\n",
       "\n",
       "    .dataframe thead th {\n",
       "        text-align: right;\n",
       "    }\n",
       "</style>\n",
       "<table border=\"1\" class=\"dataframe\">\n",
       "  <thead>\n",
       "    <tr style=\"text-align: right;\">\n",
       "      <th></th>\n",
       "      <th>title</th>\n",
       "      <th>text</th>\n",
       "      <th>subject</th>\n",
       "    </tr>\n",
       "  </thead>\n",
       "  <tbody>\n",
       "    <tr>\n",
       "      <th>0</th>\n",
       "      <td>syria toxic gas inquiry to end after russia ag...</td>\n",
       "      <td>united nations reuters an international invest...</td>\n",
       "      <td>worldnews</td>\n",
       "    </tr>\n",
       "    <tr>\n",
       "      <th>1</th>\n",
       "      <td>lebanon hariri on twitter am on the way to the...</td>\n",
       "      <td>cairo reuters lebanon prime minister saad alha...</td>\n",
       "      <td>worldnews</td>\n",
       "    </tr>\n",
       "    <tr>\n",
       "      <th>2</th>\n",
       "      <td>factbox pot nation canada plans for legal mari...</td>\n",
       "      <td>reuters recreational marijuana is on track to ...</td>\n",
       "      <td>worldnews</td>\n",
       "    </tr>\n",
       "    <tr>\n",
       "      <th>3</th>\n",
       "      <td>lebanese sunni politician warns of arab sancti...</td>\n",
       "      <td>beirut reuters lebanon could face economic san...</td>\n",
       "      <td>worldnews</td>\n",
       "    </tr>\n",
       "    <tr>\n",
       "      <th>4</th>\n",
       "      <td>russia blocks bid to briefly extend syria chem...</td>\n",
       "      <td>united nations reuters russia vetoed on friday...</td>\n",
       "      <td>worldnews</td>\n",
       "    </tr>\n",
       "  </tbody>\n",
       "</table>\n",
       "</div>"
      ],
      "text/plain": [
       "                                               title  \\\n",
       "0  syria toxic gas inquiry to end after russia ag...   \n",
       "1  lebanon hariri on twitter am on the way to the...   \n",
       "2  factbox pot nation canada plans for legal mari...   \n",
       "3  lebanese sunni politician warns of arab sancti...   \n",
       "4  russia blocks bid to briefly extend syria chem...   \n",
       "\n",
       "                                                text    subject  \n",
       "0  united nations reuters an international invest...  worldnews  \n",
       "1  cairo reuters lebanon prime minister saad alha...  worldnews  \n",
       "2  reuters recreational marijuana is on track to ...  worldnews  \n",
       "3  beirut reuters lebanon could face economic san...  worldnews  \n",
       "4  united nations reuters russia vetoed on friday...  worldnews  "
      ]
     },
     "execution_count": 52,
     "metadata": {},
     "output_type": "execute_result"
    }
   ],
   "source": [
    "\n",
    "# prepare new data\n",
    "new_df = data.copy()\n",
    "new_df[\"date\"] = pd.to_datetime(new_df[\"date\"])\n",
    "new_df = new_df.sort_values(\"date\").reset_index(drop=True)\n",
    "\n",
    "# drop raw date\n",
    "X_new = new_df.drop(columns=[\"date\"]) if \"date\" in new_df.columns else new_df\n",
    "\n",
    "X_new.head()\n",
    "\n"
   ]
  },
  {
   "cell_type": "markdown",
   "id": "98754ea9",
   "metadata": {},
   "source": [
    "## tf_idf"
   ]
  },
  {
   "cell_type": "code",
   "execution_count": 64,
   "id": "9948393c",
   "metadata": {},
   "outputs": [
    {
     "data": {
      "text/plain": [
       "(4489, 152612)"
      ]
     },
     "execution_count": 64,
     "metadata": {},
     "output_type": "execute_result"
    }
   ],
   "source": [
    "from sklearn.feature_extraction.text import TfidfVectorizer\n",
    "from scipy.sparse import hstack\n",
    "\n",
    "v_text = joblib.load(\"vectorizer_text.pkl\")\n",
    "v_title = joblib.load(\"vectorizer_title.pkl\")\n",
    "\n",
    "X_tr_text  = v_text.transform(X_new[\"text\"].astype(str))\n",
    "X_tr_title = v_title.transform(X_new[\"title\"].astype(str))\n",
    "X_tr_all   = hstack([X_tr_text, X_tr_title])\n",
    "\n",
    "X_tr_all.shape"
   ]
  },
  {
   "cell_type": "markdown",
   "id": "c9913c54",
   "metadata": {},
   "source": [
    "# Predict"
   ]
  },
  {
   "cell_type": "markdown",
   "id": "51293730",
   "metadata": {},
   "source": [
    "### Logistic Regression"
   ]
  },
  {
   "cell_type": "code",
   "execution_count": 68,
   "id": "7d0a0df5",
   "metadata": {},
   "outputs": [
    {
     "name": "stdout",
     "output_type": "stream",
     "text": [
      "Predictions: [1 0 1 ... 0 0 0]\n"
     ]
    }
   ],
   "source": [
    "\n",
    "# load LR model\n",
    "clf_lr = joblib.load(\"modelLR.pkl\")\n",
    "\n",
    "# make predictions\n",
    "y_pred_lr = clf_lr.predict(X_tr_all)\n",
    "\n",
    "print(\"Predictions:\", y_pred_lr)\n"
   ]
  },
  {
   "cell_type": "code",
   "execution_count": 76,
   "id": "8297ba56",
   "metadata": {},
   "outputs": [],
   "source": [
    "import pandas as pd\n",
    "\n",
    "# Load your old data\n",
    "data = pd.read_csv(\"test_data_no_labels.csv\", encoding='latin-1')\n",
    "\n",
    "# Add predictions as a new column\n",
    "data[\"predictions\"] = y_pred_lr  # y_pred_lr must match number of rows\n",
    "\n",
    "# Save to new file\n",
    "data.to_csv(\"predictionsLR.csv\", index=False)\n"
   ]
  },
  {
   "cell_type": "markdown",
   "id": "58a441ed",
   "metadata": {},
   "source": [
    "## Random Forest"
   ]
  },
  {
   "cell_type": "code",
   "execution_count": 77,
   "id": "2ff3ddf1",
   "metadata": {},
   "outputs": [
    {
     "name": "stdout",
     "output_type": "stream",
     "text": [
      "Predictions: [1 1 1 ... 0 0 0]\n"
     ]
    }
   ],
   "source": [
    "\n",
    "# load RF model\n",
    "clf_rf = joblib.load(\"modelRF.pkl\")\n",
    "\n",
    "# make predictions\n",
    "y_pred_rf = clf_rf.predict(X_tr_all)\n",
    "\n",
    "print(\"Predictions:\", y_pred_rf)\n"
   ]
  },
  {
   "cell_type": "code",
   "execution_count": 78,
   "id": "b1c27e1d",
   "metadata": {},
   "outputs": [],
   "source": [
    "import pandas as pd\n",
    "\n",
    "# Load your old data\n",
    "data = pd.read_csv(\"test_data_no_labels.csv\", encoding='latin-1')\n",
    "\n",
    "# Add predictions as a new column\n",
    "data[\"predictions\"] = y_pred_rf  # y_pred_rf must match number of rows\n",
    "\n",
    "# Save to new file\n",
    "data.to_csv(\"predictionsRF.csv\", index=False)\n"
   ]
  },
  {
   "cell_type": "code",
   "execution_count": null,
   "id": "b0d5ef1e",
   "metadata": {},
   "outputs": [],
   "source": []
  }
 ],
 "metadata": {
  "kernelspec": {
   "display_name": "base",
   "language": "python",
   "name": "python3"
  },
  "language_info": {
   "codemirror_mode": {
    "name": "ipython",
    "version": 3
   },
   "file_extension": ".py",
   "mimetype": "text/x-python",
   "name": "python",
   "nbconvert_exporter": "python",
   "pygments_lexer": "ipython3",
   "version": "3.13.5"
  }
 },
 "nbformat": 4,
 "nbformat_minor": 5
}
